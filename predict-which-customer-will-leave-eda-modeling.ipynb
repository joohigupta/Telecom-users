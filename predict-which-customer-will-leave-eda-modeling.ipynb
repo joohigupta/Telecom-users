{
 "cells": [
  {
   "cell_type": "markdown",
   "id": "opponent-joining",
   "metadata": {
    "papermill": {
     "duration": 0.048834,
     "end_time": "2021-04-09T12:39:08.034355",
     "exception": false,
     "start_time": "2021-04-09T12:39:07.985521",
     "status": "completed"
    },
    "tags": []
   },
   "source": [
    "# <span style=\"font-family: Arial;font-size:1.2em;color:#3366ff\">Telecom Customer churn prediction"
   ]
  },
  {
   "cell_type": "markdown",
   "id": "tight-appendix",
   "metadata": {
    "papermill": {
     "duration": 0.046166,
     "end_time": "2021-04-09T12:39:08.127959",
     "exception": false,
     "start_time": "2021-04-09T12:39:08.081793",
     "status": "completed"
    },
    "tags": []
   },
   "source": [
    "<span style=\"font-family: Arial;font-size:1.2em;color:#3366ff\">Objective:-\n",
    "\n",
    "* <span style=\"font-family: Arial;font-size:1.2em;color:#3366ff\">Predict the Telecom customer who is going churn in near future"
   ]
  },
  {
   "cell_type": "markdown",
   "id": "pressing-montreal",
   "metadata": {
    "papermill": {
     "duration": 0.045991,
     "end_time": "2021-04-09T12:39:08.220221",
     "exception": false,
     "start_time": "2021-04-09T12:39:08.174230",
     "status": "completed"
    },
    "tags": []
   },
   "source": [
    "<div style=\"color:white;\n",
    "           display:fill;\n",
    "           border-radius:50px;\n",
    "           background-color:#E8B60B;\n",
    "           font-size:300%;\n",
    "           font-family:Arial;\n",
    "           letter-spacing:0.10px\">\n",
    "<p style=\"padding: 10px;\n",
    "          color:black;\n",
    "          text-align:center;\">Index\n",
    "</p>\n",
    "</div>"
   ]
  },
  {
   "cell_type": "markdown",
   "id": "ethical-japan",
   "metadata": {
    "papermill": {
     "duration": 0.046245,
     "end_time": "2021-04-09T12:39:08.312938",
     "exception": false,
     "start_time": "2021-04-09T12:39:08.266693",
     "status": "completed"
    },
    "tags": []
   },
   "source": [
    "# Index\n",
    "* <a href=\"#Packages\">1.1.Packages</a>\n",
    "* <a href=\"#EDA\">1.2.EDA</a>\n",
    "* <a href=\"#Tableau-Dashboard\">1.3.Tableau Dashboard</a>\n",
    "* <a href=\"#Preprocessing\">1.4.Preprocessing</a>\n",
    "* <a href=\"#Modeling\">1.5.Modeling</a>\n",
    "* <a href=\"#Permutation-Importance\">1.6.Permutation Importance</a>\n",
    "* <a href=\"#Model-comparison\">1.7.Model comparison</a>\n",
    "* <a href=\"#Reference\">1.8.Reference</a>"
   ]
  },
  {
   "cell_type": "markdown",
   "id": "divided-taiwan",
   "metadata": {
    "papermill": {
     "duration": 0.046247,
     "end_time": "2021-04-09T12:39:08.405798",
     "exception": false,
     "start_time": "2021-04-09T12:39:08.359551",
     "status": "completed"
    },
    "tags": []
   },
   "source": [
    "<div style=\"color:white;\n",
    "           display:fill;\n",
    "           border-radius:50px;\n",
    "           background-color:#E8B60B;\n",
    "           font-size:300%;\n",
    "           font-family:Arial;\n",
    "           letter-spacing:0.10px\">\n",
    "<p style=\"padding: 10px;\n",
    "          color:black;\n",
    "          text-align:center;\">Packages\n",
    "</p>\n",
    "</div>"
   ]
  },
  {
   "cell_type": "markdown",
   "id": "danish-castle",
   "metadata": {
    "papermill": {
     "duration": 0.046313,
     "end_time": "2021-04-09T12:39:08.498570",
     "exception": false,
     "start_time": "2021-04-09T12:39:08.452257",
     "status": "completed"
    },
    "tags": []
   },
   "source": [
    "# Packages"
   ]
  },
  {
   "cell_type": "code",
   "execution_count": 1,
   "id": "isolated-litigation",
   "metadata": {
    "execution": {
     "iopub.execute_input": "2021-04-09T12:39:08.600353Z",
     "iopub.status.busy": "2021-04-09T12:39:08.599635Z",
     "iopub.status.idle": "2021-04-09T12:39:17.783403Z",
     "shell.execute_reply": "2021-04-09T12:39:17.782733Z"
    },
    "papermill": {
     "duration": 9.238525,
     "end_time": "2021-04-09T12:39:17.783573",
     "exception": false,
     "start_time": "2021-04-09T12:39:08.545048",
     "status": "completed"
    },
    "tags": []
   },
   "outputs": [
    {
     "data": {
      "text/html": [
       "<style type='text/css'>\n",
       ".datatable table.frame { margin-bottom: 0; }\n",
       ".datatable table.frame thead { border-bottom: none; }\n",
       ".datatable table.frame tr.coltypes td {  color: #FFFFFF;  line-height: 6px;  padding: 0 0.5em;}\n",
       ".datatable .bool    { background: #DDDD99; }\n",
       ".datatable .object  { background: #565656; }\n",
       ".datatable .int     { background: #5D9E5D; }\n",
       ".datatable .float   { background: #4040CC; }\n",
       ".datatable .str     { background: #CC4040; }\n",
       ".datatable .row_index {  background: var(--jp-border-color3);  border-right: 1px solid var(--jp-border-color0);  color: var(--jp-ui-font-color3);  font-size: 9px;}\n",
       ".datatable .frame tr.coltypes .row_index {  background: var(--jp-border-color0);}\n",
       ".datatable th:nth-child(2) { padding-left: 12px; }\n",
       ".datatable .hellipsis {  color: var(--jp-cell-editor-border-color);}\n",
       ".datatable .vellipsis {  background: var(--jp-layout-color0);  color: var(--jp-cell-editor-border-color);}\n",
       ".datatable .na {  color: var(--jp-cell-editor-border-color);  font-size: 80%;}\n",
       ".datatable .footer { font-size: 9px; }\n",
       ".datatable .frame_dimensions {  background: var(--jp-border-color3);  border-top: 1px solid var(--jp-border-color0);  color: var(--jp-ui-font-color3);  display: inline-block;  opacity: 0.6;  padding: 1px 10px 1px 5px;}\n",
       "</style>\n"
      ],
      "text/plain": [
       "<IPython.core.display.HTML object>"
      ]
     },
     "metadata": {},
     "output_type": "display_data"
    },
    {
     "data": {
      "text/html": [
       "        <script type=\"text/javascript\">\n",
       "        window.PlotlyConfig = {MathJaxConfig: 'local'};\n",
       "        if (window.MathJax) {MathJax.Hub.Config({SVG: {font: \"STIX-Web\"}});}\n",
       "        if (typeof require !== 'undefined') {\n",
       "        require.undef(\"plotly\");\n",
       "        requirejs.config({\n",
       "            paths: {\n",
       "                'plotly': ['https://cdn.plot.ly/plotly-latest.min']\n",
       "            }\n",
       "        });\n",
       "        require(['plotly'], function(Plotly) {\n",
       "            window._Plotly = Plotly;\n",
       "        });\n",
       "        }\n",
       "        </script>\n",
       "        "
      ]
     },
     "metadata": {},
     "output_type": "display_data"
    }
   ],
   "source": [
    "# packages\n",
    "import numpy as np # linear algebra\n",
    "import pandas as pd # data processing\n",
    "\n",
    "# plot\n",
    "import matplotlib.pyplot as plt\n",
    "import seaborn as sns\n",
    "import plotly.express as px\n",
    "\n",
    "# display HTML, Js apps\n",
    "from IPython.core.display import display, HTML, Javascript\n",
    "\n",
    "# scaling\n",
    "from sklearn.preprocessing import StandardScaler\n",
    "\n",
    "# SMOTE\n",
    "from imblearn.over_sampling import SMOTE\n",
    "\n",
    "# keras\n",
    "import tensorflow as tf\n",
    "from tensorflow.keras.models import Sequential\n",
    "from tensorflow.keras.layers import Dense, Activation, Dropout\n",
    "from tensorflow.keras.callbacks import EarlyStopping\n",
    "\n",
    "# model Evaluation\n",
    "from sklearn import metrics\n",
    " \n",
    "# model explainablity\n",
    "import eli5\n",
    "from eli5.sklearn import PermutationImportance\n",
    "\n",
    "# plotly offline\n",
    "from plotly.offline import download_plotlyjs,init_notebook_mode\n",
    "init_notebook_mode(connected=True)\n",
    "\n",
    "# MISC\n",
    "import warnings\n",
    "warnings.filterwarnings(\"ignore\")"
   ]
  },
  {
   "cell_type": "code",
   "execution_count": 2,
   "id": "turned-savage",
   "metadata": {
    "execution": {
     "iopub.execute_input": "2021-04-09T12:39:17.891276Z",
     "iopub.status.busy": "2021-04-09T12:39:17.890591Z",
     "iopub.status.idle": "2021-04-09T12:39:17.965575Z",
     "shell.execute_reply": "2021-04-09T12:39:17.964887Z"
    },
    "papermill": {
     "duration": 0.133278,
     "end_time": "2021-04-09T12:39:17.965746",
     "exception": false,
     "start_time": "2021-04-09T12:39:17.832468",
     "status": "completed"
    },
    "tags": []
   },
   "outputs": [],
   "source": [
    "# import data\n",
    "df = pd.read_csv('../input/telecom-users-dataset/telecom_users.csv',index_col=0)"
   ]
  },
  {
   "cell_type": "code",
   "execution_count": 3,
   "id": "european-gateway",
   "metadata": {
    "execution": {
     "iopub.execute_input": "2021-04-09T12:39:18.067589Z",
     "iopub.status.busy": "2021-04-09T12:39:18.066885Z",
     "iopub.status.idle": "2021-04-09T12:39:18.100841Z",
     "shell.execute_reply": "2021-04-09T12:39:18.100168Z"
    },
    "papermill": {
     "duration": 0.087352,
     "end_time": "2021-04-09T12:39:18.100987",
     "exception": false,
     "start_time": "2021-04-09T12:39:18.013635",
     "status": "completed"
    },
    "tags": []
   },
   "outputs": [
    {
     "data": {
      "text/html": [
       "<div>\n",
       "<style scoped>\n",
       "    .dataframe tbody tr th:only-of-type {\n",
       "        vertical-align: middle;\n",
       "    }\n",
       "\n",
       "    .dataframe tbody tr th {\n",
       "        vertical-align: top;\n",
       "    }\n",
       "\n",
       "    .dataframe thead th {\n",
       "        text-align: right;\n",
       "    }\n",
       "</style>\n",
       "<table border=\"1\" class=\"dataframe\">\n",
       "  <thead>\n",
       "    <tr style=\"text-align: right;\">\n",
       "      <th></th>\n",
       "      <th>gender</th>\n",
       "      <th>SeniorCitizen</th>\n",
       "      <th>Partner</th>\n",
       "      <th>Dependents</th>\n",
       "      <th>tenure</th>\n",
       "      <th>PhoneService</th>\n",
       "      <th>MultipleLines</th>\n",
       "      <th>InternetService</th>\n",
       "      <th>OnlineSecurity</th>\n",
       "      <th>OnlineBackup</th>\n",
       "      <th>DeviceProtection</th>\n",
       "      <th>TechSupport</th>\n",
       "      <th>StreamingTV</th>\n",
       "      <th>StreamingMovies</th>\n",
       "      <th>Contract</th>\n",
       "      <th>PaperlessBilling</th>\n",
       "      <th>PaymentMethod</th>\n",
       "      <th>MonthlyCharges</th>\n",
       "      <th>TotalCharges</th>\n",
       "      <th>Churn</th>\n",
       "    </tr>\n",
       "  </thead>\n",
       "  <tbody>\n",
       "    <tr>\n",
       "      <th>0</th>\n",
       "      <td>Male</td>\n",
       "      <td>0</td>\n",
       "      <td>Yes</td>\n",
       "      <td>Yes</td>\n",
       "      <td>72</td>\n",
       "      <td>Yes</td>\n",
       "      <td>Yes</td>\n",
       "      <td>No</td>\n",
       "      <td>No internet service</td>\n",
       "      <td>No internet service</td>\n",
       "      <td>No internet service</td>\n",
       "      <td>No internet service</td>\n",
       "      <td>No internet service</td>\n",
       "      <td>No internet service</td>\n",
       "      <td>Two year</td>\n",
       "      <td>No</td>\n",
       "      <td>Credit card (automatic)</td>\n",
       "      <td>24.10</td>\n",
       "      <td>1734.65</td>\n",
       "      <td>No</td>\n",
       "    </tr>\n",
       "    <tr>\n",
       "      <th>1</th>\n",
       "      <td>Female</td>\n",
       "      <td>0</td>\n",
       "      <td>No</td>\n",
       "      <td>No</td>\n",
       "      <td>44</td>\n",
       "      <td>Yes</td>\n",
       "      <td>No</td>\n",
       "      <td>Fiber optic</td>\n",
       "      <td>No</td>\n",
       "      <td>Yes</td>\n",
       "      <td>Yes</td>\n",
       "      <td>No</td>\n",
       "      <td>Yes</td>\n",
       "      <td>No</td>\n",
       "      <td>Month-to-month</td>\n",
       "      <td>Yes</td>\n",
       "      <td>Credit card (automatic)</td>\n",
       "      <td>88.15</td>\n",
       "      <td>3973.2</td>\n",
       "      <td>No</td>\n",
       "    </tr>\n",
       "    <tr>\n",
       "      <th>2</th>\n",
       "      <td>Female</td>\n",
       "      <td>1</td>\n",
       "      <td>Yes</td>\n",
       "      <td>No</td>\n",
       "      <td>38</td>\n",
       "      <td>Yes</td>\n",
       "      <td>Yes</td>\n",
       "      <td>Fiber optic</td>\n",
       "      <td>No</td>\n",
       "      <td>No</td>\n",
       "      <td>No</td>\n",
       "      <td>No</td>\n",
       "      <td>No</td>\n",
       "      <td>No</td>\n",
       "      <td>Month-to-month</td>\n",
       "      <td>Yes</td>\n",
       "      <td>Bank transfer (automatic)</td>\n",
       "      <td>74.95</td>\n",
       "      <td>2869.85</td>\n",
       "      <td>Yes</td>\n",
       "    </tr>\n",
       "    <tr>\n",
       "      <th>3</th>\n",
       "      <td>Male</td>\n",
       "      <td>0</td>\n",
       "      <td>No</td>\n",
       "      <td>No</td>\n",
       "      <td>4</td>\n",
       "      <td>Yes</td>\n",
       "      <td>No</td>\n",
       "      <td>DSL</td>\n",
       "      <td>No</td>\n",
       "      <td>No</td>\n",
       "      <td>No</td>\n",
       "      <td>No</td>\n",
       "      <td>No</td>\n",
       "      <td>Yes</td>\n",
       "      <td>Month-to-month</td>\n",
       "      <td>Yes</td>\n",
       "      <td>Electronic check</td>\n",
       "      <td>55.90</td>\n",
       "      <td>238.5</td>\n",
       "      <td>No</td>\n",
       "    </tr>\n",
       "    <tr>\n",
       "      <th>4</th>\n",
       "      <td>Male</td>\n",
       "      <td>0</td>\n",
       "      <td>No</td>\n",
       "      <td>No</td>\n",
       "      <td>2</td>\n",
       "      <td>Yes</td>\n",
       "      <td>No</td>\n",
       "      <td>DSL</td>\n",
       "      <td>Yes</td>\n",
       "      <td>No</td>\n",
       "      <td>Yes</td>\n",
       "      <td>No</td>\n",
       "      <td>No</td>\n",
       "      <td>No</td>\n",
       "      <td>Month-to-month</td>\n",
       "      <td>No</td>\n",
       "      <td>Electronic check</td>\n",
       "      <td>53.45</td>\n",
       "      <td>119.5</td>\n",
       "      <td>No</td>\n",
       "    </tr>\n",
       "  </tbody>\n",
       "</table>\n",
       "</div>"
      ],
      "text/plain": [
       "   gender  SeniorCitizen Partner Dependents  tenure PhoneService  \\\n",
       "0    Male              0     Yes        Yes      72          Yes   \n",
       "1  Female              0      No         No      44          Yes   \n",
       "2  Female              1     Yes         No      38          Yes   \n",
       "3    Male              0      No         No       4          Yes   \n",
       "4    Male              0      No         No       2          Yes   \n",
       "\n",
       "  MultipleLines InternetService       OnlineSecurity         OnlineBackup  \\\n",
       "0           Yes              No  No internet service  No internet service   \n",
       "1            No     Fiber optic                   No                  Yes   \n",
       "2           Yes     Fiber optic                   No                   No   \n",
       "3            No             DSL                   No                   No   \n",
       "4            No             DSL                  Yes                   No   \n",
       "\n",
       "      DeviceProtection          TechSupport          StreamingTV  \\\n",
       "0  No internet service  No internet service  No internet service   \n",
       "1                  Yes                   No                  Yes   \n",
       "2                   No                   No                   No   \n",
       "3                   No                   No                   No   \n",
       "4                  Yes                   No                   No   \n",
       "\n",
       "       StreamingMovies        Contract PaperlessBilling  \\\n",
       "0  No internet service        Two year               No   \n",
       "1                   No  Month-to-month              Yes   \n",
       "2                   No  Month-to-month              Yes   \n",
       "3                  Yes  Month-to-month              Yes   \n",
       "4                   No  Month-to-month               No   \n",
       "\n",
       "               PaymentMethod  MonthlyCharges TotalCharges Churn  \n",
       "0    Credit card (automatic)           24.10      1734.65    No  \n",
       "1    Credit card (automatic)           88.15       3973.2    No  \n",
       "2  Bank transfer (automatic)           74.95      2869.85   Yes  \n",
       "3           Electronic check           55.90        238.5    No  \n",
       "4           Electronic check           53.45        119.5    No  "
      ]
     },
     "execution_count": 3,
     "metadata": {},
     "output_type": "execute_result"
    }
   ],
   "source": [
    "# drop unnamed column\n",
    "df = df.reset_index()\n",
    "df = df.drop(['index','customerID'],axis=1)\n",
    "\n",
    "df.head()"
   ]
  },
  {
   "cell_type": "code",
   "execution_count": 4,
   "id": "adapted-myrtle",
   "metadata": {
    "execution": {
     "iopub.execute_input": "2021-04-09T12:39:18.230530Z",
     "iopub.status.busy": "2021-04-09T12:39:18.215491Z",
     "iopub.status.idle": "2021-04-09T12:39:18.236778Z",
     "shell.execute_reply": "2021-04-09T12:39:18.236071Z"
    },
    "jupyter": {
     "source_hidden": true
    },
    "papermill": {
     "duration": 0.086827,
     "end_time": "2021-04-09T12:39:18.236944",
     "exception": false,
     "start_time": "2021-04-09T12:39:18.150117",
     "status": "completed"
    },
    "tags": []
   },
   "outputs": [
    {
     "name": "stdout",
     "output_type": "stream",
     "text": [
      "<class 'pandas.core.frame.DataFrame'>\n",
      "RangeIndex: 5986 entries, 0 to 5985\n",
      "Data columns (total 20 columns):\n",
      " #   Column            Non-Null Count  Dtype  \n",
      "---  ------            --------------  -----  \n",
      " 0   gender            5986 non-null   object \n",
      " 1   SeniorCitizen     5986 non-null   int64  \n",
      " 2   Partner           5986 non-null   object \n",
      " 3   Dependents        5986 non-null   object \n",
      " 4   tenure            5986 non-null   int64  \n",
      " 5   PhoneService      5986 non-null   object \n",
      " 6   MultipleLines     5986 non-null   object \n",
      " 7   InternetService   5986 non-null   object \n",
      " 8   OnlineSecurity    5986 non-null   object \n",
      " 9   OnlineBackup      5986 non-null   object \n",
      " 10  DeviceProtection  5986 non-null   object \n",
      " 11  TechSupport       5986 non-null   object \n",
      " 12  StreamingTV       5986 non-null   object \n",
      " 13  StreamingMovies   5986 non-null   object \n",
      " 14  Contract          5986 non-null   object \n",
      " 15  PaperlessBilling  5986 non-null   object \n",
      " 16  PaymentMethod     5986 non-null   object \n",
      " 17  MonthlyCharges    5986 non-null   float64\n",
      " 18  TotalCharges      5986 non-null   object \n",
      " 19  Churn             5986 non-null   object \n",
      "dtypes: float64(1), int64(2), object(17)\n",
      "memory usage: 935.4+ KB\n"
     ]
    }
   ],
   "source": [
    "df.info()"
   ]
  },
  {
   "cell_type": "markdown",
   "id": "vertical-hunger",
   "metadata": {
    "papermill": {
     "duration": 0.049959,
     "end_time": "2021-04-09T12:39:18.337932",
     "exception": false,
     "start_time": "2021-04-09T12:39:18.287973",
     "status": "completed"
    },
    "tags": []
   },
   "source": [
    "<div style=\"color:white;\n",
    "           display:fill;\n",
    "           border-radius:50px;\n",
    "           background-color:#E8B60B;\n",
    "           font-size:300%;\n",
    "           font-family:Arial;\n",
    "           letter-spacing:0.10px\">\n",
    "<p style=\"padding: 10px;\n",
    "          color:black;\n",
    "          text-align:center;\">Exploratory data analysis\n",
    "</p>\n",
    "</div>"
   ]
  },
  {
   "cell_type": "markdown",
   "id": "chronic-prior",
   "metadata": {
    "papermill": {
     "duration": 0.048974,
     "end_time": "2021-04-09T12:39:18.435940",
     "exception": false,
     "start_time": "2021-04-09T12:39:18.386966",
     "status": "completed"
    },
    "tags": []
   },
   "source": [
    "# EDA"
   ]
  },
  {
   "cell_type": "code",
   "execution_count": 5,
   "id": "spread-baseline",
   "metadata": {
    "execution": {
     "iopub.execute_input": "2021-04-09T12:39:18.540923Z",
     "iopub.status.busy": "2021-04-09T12:39:18.540206Z",
     "iopub.status.idle": "2021-04-09T12:39:18.568971Z",
     "shell.execute_reply": "2021-04-09T12:39:18.568391Z"
    },
    "papermill": {
     "duration": 0.08416,
     "end_time": "2021-04-09T12:39:18.569129",
     "exception": false,
     "start_time": "2021-04-09T12:39:18.484969",
     "status": "completed"
    },
    "tags": []
   },
   "outputs": [
    {
     "data": {
      "text/html": [
       "<div>\n",
       "<style scoped>\n",
       "    .dataframe tbody tr th:only-of-type {\n",
       "        vertical-align: middle;\n",
       "    }\n",
       "\n",
       "    .dataframe tbody tr th {\n",
       "        vertical-align: top;\n",
       "    }\n",
       "\n",
       "    .dataframe thead th {\n",
       "        text-align: right;\n",
       "    }\n",
       "</style>\n",
       "<table border=\"1\" class=\"dataframe\">\n",
       "  <thead>\n",
       "    <tr style=\"text-align: right;\">\n",
       "      <th></th>\n",
       "      <th>count</th>\n",
       "      <th>mean</th>\n",
       "      <th>std</th>\n",
       "      <th>min</th>\n",
       "      <th>25%</th>\n",
       "      <th>50%</th>\n",
       "      <th>75%</th>\n",
       "      <th>max</th>\n",
       "    </tr>\n",
       "  </thead>\n",
       "  <tbody>\n",
       "    <tr>\n",
       "      <th>tenure</th>\n",
       "      <td>1587.0</td>\n",
       "      <td>18.246377</td>\n",
       "      <td>19.667262</td>\n",
       "      <td>1.00</td>\n",
       "      <td>2.000</td>\n",
       "      <td>10.0</td>\n",
       "      <td>30.0</td>\n",
       "      <td>72.00</td>\n",
       "    </tr>\n",
       "    <tr>\n",
       "      <th>MonthlyCharges</th>\n",
       "      <td>1587.0</td>\n",
       "      <td>74.164871</td>\n",
       "      <td>24.965002</td>\n",
       "      <td>18.85</td>\n",
       "      <td>55.675</td>\n",
       "      <td>79.5</td>\n",
       "      <td>94.4</td>\n",
       "      <td>118.35</td>\n",
       "    </tr>\n",
       "  </tbody>\n",
       "</table>\n",
       "</div>"
      ],
      "text/plain": [
       "                 count       mean        std    min     25%   50%   75%  \\\n",
       "tenure          1587.0  18.246377  19.667262   1.00   2.000  10.0  30.0   \n",
       "MonthlyCharges  1587.0  74.164871  24.965002  18.85  55.675  79.5  94.4   \n",
       "\n",
       "                   max  \n",
       "tenure           72.00  \n",
       "MonthlyCharges  118.35  "
      ]
     },
     "execution_count": 5,
     "metadata": {},
     "output_type": "execute_result"
    }
   ],
   "source": [
    "# stats\n",
    "df[df['Churn']=='Yes'][['tenure','MonthlyCharges']].describe().T"
   ]
  },
  {
   "cell_type": "code",
   "execution_count": 6,
   "id": "pretty-forum",
   "metadata": {
    "execution": {
     "iopub.execute_input": "2021-04-09T12:39:18.679278Z",
     "iopub.status.busy": "2021-04-09T12:39:18.678548Z",
     "iopub.status.idle": "2021-04-09T12:39:18.703644Z",
     "shell.execute_reply": "2021-04-09T12:39:18.704183Z"
    },
    "papermill": {
     "duration": 0.081062,
     "end_time": "2021-04-09T12:39:18.704373",
     "exception": false,
     "start_time": "2021-04-09T12:39:18.623311",
     "status": "completed"
    },
    "tags": []
   },
   "outputs": [
    {
     "data": {
      "text/html": [
       "<div>\n",
       "<style scoped>\n",
       "    .dataframe tbody tr th:only-of-type {\n",
       "        vertical-align: middle;\n",
       "    }\n",
       "\n",
       "    .dataframe tbody tr th {\n",
       "        vertical-align: top;\n",
       "    }\n",
       "\n",
       "    .dataframe thead th {\n",
       "        text-align: right;\n",
       "    }\n",
       "</style>\n",
       "<table border=\"1\" class=\"dataframe\">\n",
       "  <thead>\n",
       "    <tr style=\"text-align: right;\">\n",
       "      <th></th>\n",
       "      <th>count</th>\n",
       "      <th>mean</th>\n",
       "      <th>std</th>\n",
       "      <th>min</th>\n",
       "      <th>25%</th>\n",
       "      <th>50%</th>\n",
       "      <th>75%</th>\n",
       "      <th>max</th>\n",
       "    </tr>\n",
       "  </thead>\n",
       "  <tbody>\n",
       "    <tr>\n",
       "      <th>tenure</th>\n",
       "      <td>4399.0</td>\n",
       "      <td>37.599682</td>\n",
       "      <td>24.065131</td>\n",
       "      <td>0.00</td>\n",
       "      <td>15.000</td>\n",
       "      <td>37.00</td>\n",
       "      <td>61.0</td>\n",
       "      <td>72.00</td>\n",
       "    </tr>\n",
       "    <tr>\n",
       "      <th>MonthlyCharges</th>\n",
       "      <td>4399.0</td>\n",
       "      <td>61.424506</td>\n",
       "      <td>31.086101</td>\n",
       "      <td>18.25</td>\n",
       "      <td>25.125</td>\n",
       "      <td>64.75</td>\n",
       "      <td>88.7</td>\n",
       "      <td>118.75</td>\n",
       "    </tr>\n",
       "  </tbody>\n",
       "</table>\n",
       "</div>"
      ],
      "text/plain": [
       "                 count       mean        std    min     25%    50%   75%  \\\n",
       "tenure          4399.0  37.599682  24.065131   0.00  15.000  37.00  61.0   \n",
       "MonthlyCharges  4399.0  61.424506  31.086101  18.25  25.125  64.75  88.7   \n",
       "\n",
       "                   max  \n",
       "tenure           72.00  \n",
       "MonthlyCharges  118.75  "
      ]
     },
     "execution_count": 6,
     "metadata": {},
     "output_type": "execute_result"
    }
   ],
   "source": [
    "# stats \n",
    "df[df['Churn']=='No'][['tenure','MonthlyCharges']].describe().T"
   ]
  },
  {
   "cell_type": "markdown",
   "id": "least-worship",
   "metadata": {
    "papermill": {
     "duration": 0.049669,
     "end_time": "2021-04-09T12:39:18.804370",
     "exception": false,
     "start_time": "2021-04-09T12:39:18.754701",
     "status": "completed"
    },
    "tags": []
   },
   "source": [
    "## Insights\n",
    "* <span style=\"font-family: Arial;font-size:1.2em;color:#3366ff\">if we closely observe the Monthly charges mean of 74.16 and median of 79.5 for customers who are churned\n",
    "* <span style=\"font-family: Arial;font-size:1.2em;color:#3366ff\">if we compare with the Monthly charges mean of 61.42 and median of 64.75 for customers who are not churned\n",
    "* <span style=\"font-family: Arial;font-size:1.2em;color:#3366ff\">we can see that monthly charges of churned customers are higher than the customers who not churn"
   ]
  },
  {
   "cell_type": "code",
   "execution_count": 7,
   "id": "single-memory",
   "metadata": {
    "_kg_hide-input": true,
    "execution": {
     "iopub.execute_input": "2021-04-09T12:39:18.910549Z",
     "iopub.status.busy": "2021-04-09T12:39:18.909926Z",
     "iopub.status.idle": "2021-04-09T12:39:21.060585Z",
     "shell.execute_reply": "2021-04-09T12:39:21.061083Z"
    },
    "jupyter": {
     "source_hidden": true
    },
    "papermill": {
     "duration": 2.206904,
     "end_time": "2021-04-09T12:39:21.061251",
     "exception": false,
     "start_time": "2021-04-09T12:39:18.854347",
     "status": "completed"
    },
    "tags": []
   },
   "outputs": [
    {
     "data": {
      "image/png": "[encoded data removed]",
      "text/plain": [
       "<Figure size 412x360 with 6 Axes>"
      ]
     },
     "metadata": {},
     "output_type": "display_data"
    }
   ],
   "source": [
    "# pairplot\n",
    "plt.style.use('seaborn-dark')\n",
    "sns.pairplot(df[['tenure','MonthlyCharges','Churn']],hue='Churn',palette='Dark2');\n",
    "plt.tight_layout();"
   ]
  },
  {
   "cell_type": "code",
   "execution_count": 8,
   "id": "protecting-roots",
   "metadata": {
    "execution": {
     "iopub.execute_input": "2021-04-09T12:39:21.179811Z",
     "iopub.status.busy": "2021-04-09T12:39:21.179075Z",
     "iopub.status.idle": "2021-04-09T12:39:21.483368Z",
     "shell.execute_reply": "2021-04-09T12:39:21.483975Z"
    },
    "jupyter": {
     "source_hidden": true
    },
    "papermill": {
     "duration": 0.368295,
     "end_time": "2021-04-09T12:39:21.484148",
     "exception": false,
     "start_time": "2021-04-09T12:39:21.115853",
     "status": "completed"
    },
    "tags": []
   },
   "outputs": [
    {
     "data": {
      "application/vnd.plotly.v1+json": {
       "config": {
        "plotlyServerURL": "https://plot.ly"
       },
       "data": [
        {
         "domain": {
          "x": [
           0.0,
           1.0
          ],
          "y": [
           0.0,
           1.0
          ]
         },
         "hovertemplate": "Churn?=%{label}<br>Number_of_customers=%{value}<extra></extra>",
         "labels": [
          "No",
          "Yes"
         ],
         "legendgroup": "",
         "name": "",
         "showlegend": true,
         "type": "pie",
         "values": [
          4399,
          1587
         ]
        }
       ],
       "layout": {
        "legend": {
         "tracegroupgap": 0
        },
        "template": {
         "data": {
          "scatter": [
           {
            "type": "scatter"
           }
          ]
         }
        },
        "title": {
         "text": "Churn"
        }
       }
      },
      "text/html": [
       "<div>                            <div id=\"caf404f1-fd1d-4358-8213-9292e20b6f4e\" class=\"plotly-graph-div\" style=\"height:525px; width:100%;\"></div>            <script type=\"text/javascript\">                require([\"plotly\"], function(Plotly) {                    window.PLOTLYENV=window.PLOTLYENV || {};                                    if (document.getElementById(\"caf404f1-fd1d-4358-8213-9292e20b6f4e\")) {                    Plotly.newPlot(                        \"caf404f1-fd1d-4358-8213-9292e20b6f4e\",                        [{\"domain\": {\"x\": [0.0, 1.0], \"y\": [0.0, 1.0]}, \"hovertemplate\": \"Churn?=%{label}<br>Number_of_customers=%{value}<extra></extra>\", \"labels\": [\"No\", \"Yes\"], \"legendgroup\": \"\", \"name\": \"\", \"showlegend\": true, \"type\": \"pie\", \"values\": [4399, 1587]}],                        {\"legend\": {\"tracegroupgap\": 0}, \"template\": {\"data\": {\"scatter\": [{\"type\": \"scatter\"}]}}, \"title\": {\"text\": \"Churn\"}},                        {\"responsive\": true}                    ).then(function(){\n",
       "                            \n",
       "var gd = document.getElementById('caf404f1-fd1d-4358-8213-9292e20b6f4e');\n",
       "var x = new MutationObserver(function (mutations, observer) {{\n",
       "        var display = window.getComputedStyle(gd).display;\n",
       "        if (!display || display === 'none') {{\n",
       "            console.log([gd, 'removed!']);\n",
       "            Plotly.purge(gd);\n",
       "            observer.disconnect();\n",
       "        }}\n",
       "}});\n",
       "\n",
       "// Listen for the removal of the full notebook cells\n",
       "var notebookContainer = gd.closest('#notebook-container');\n",
       "if (notebookContainer) {{\n",
       "    x.observe(notebookContainer, {childList: true});\n",
       "}}\n",
       "\n",
       "// Listen for the clearing of the current output cell\n",
       "var outputEl = gd.closest('.output');\n",
       "if (outputEl) {{\n",
       "    x.observe(outputEl, {childList: true});\n",
       "}}\n",
       "\n",
       "                        })                };                });            </script>        </div>"
      ]
     },
     "metadata": {},
     "output_type": "display_data"
    }
   ],
   "source": [
    "# Churn\n",
    "churn_plot = df['Churn'].value_counts().reset_index()\n",
    "churn_plot.columns = ['Churn?',\"Number_of_customers\"]\n",
    "\n",
    "# plot\n",
    "px.pie(churn_plot,values =\"Number_of_customers\",names='Churn?',title='Churn',template='none')"
   ]
  },
  {
   "cell_type": "markdown",
   "id": "relative-shirt",
   "metadata": {
    "papermill": {
     "duration": 0.055385,
     "end_time": "2021-04-09T12:39:21.595161",
     "exception": false,
     "start_time": "2021-04-09T12:39:21.539776",
     "status": "completed"
    },
    "tags": []
   },
   "source": [
    "### In the above pie chart we can see that there is a class imbalance in data set, instance of chrun is only 26.5% and normal is 73.5%"
   ]
  },
  {
   "cell_type": "markdown",
   "id": "latin-democrat",
   "metadata": {
    "papermill": {
     "duration": 0.055533,
     "end_time": "2021-04-09T12:39:21.706523",
     "exception": false,
     "start_time": "2021-04-09T12:39:21.650990",
     "status": "completed"
    },
    "tags": []
   },
   "source": [
    "## "
   ]
  },
  {
   "cell_type": "markdown",
   "id": "dangerous-newsletter",
   "metadata": {
    "papermill": {
     "duration": 0.055731,
     "end_time": "2021-04-09T12:39:21.818231",
     "exception": false,
     "start_time": "2021-04-09T12:39:21.762500",
     "status": "completed"
    },
    "tags": []
   },
   "source": [
    "<div style=\"color:white;\n",
    "           display:fill;\n",
    "           border-radius:50px;\n",
    "           background-color:#E8B60B;\n",
    "           font-size:300%;\n",
    "           font-family:Arial;\n",
    "           letter-spacing:0.10px\">\n",
    "<p style=\"padding: 10px;\n",
    "          color:black;\n",
    "          text-align:center;\">Tableau Dashboard\n",
    "</p>\n",
    "</div>"
   ]
  },
  {
   "cell_type": "markdown",
   "id": "musical-siemens",
   "metadata": {
    "papermill": {
     "duration": 0.055263,
     "end_time": "2021-04-09T12:39:21.929216",
     "exception": false,
     "start_time": "2021-04-09T12:39:21.873953",
     "status": "completed"
    },
    "tags": []
   },
   "source": [
    "# Tableau Dashboard"
   ]
  },
  {
   "cell_type": "code",
   "execution_count": 9,
   "id": "reserved-ebony",
   "metadata": {
    "_kg_hide-input": true,
    "execution": {
     "iopub.execute_input": "2021-04-09T12:39:22.072108Z",
     "iopub.status.busy": "2021-04-09T12:39:22.071345Z",
     "iopub.status.idle": "2021-04-09T12:39:22.075329Z",
     "shell.execute_reply": "2021-04-09T12:39:22.074803Z"
    },
    "jupyter": {
     "source_hidden": true
    },
    "papermill": {
     "duration": 0.081549,
     "end_time": "2021-04-09T12:39:22.075472",
     "exception": false,
     "start_time": "2021-04-09T12:39:21.993923",
     "status": "completed"
    },
    "tags": []
   },
   "outputs": [
    {
     "data": {
      "text/html": [
       "<div class='tableauPlaceholder' id='viz1617687716045' style='position: relative'><noscript><a href='#'><img alt=' ' src='https:&#47;&#47;public.tableau.com&#47;static&#47;images&#47;Te&#47;Telecom_Customer_Churn_prediction&#47;Telecom_churn_dashboard_1&#47;1_rss.png' style='border: none' /></a></noscript><object class='tableauViz'  style='display:none;'><param name='host_url' value='https%3A%2F%2Fpublic.tableau.com%2F' /> <param name='embed_code_version' value='3' /> <param name='site_root' value='' /><param name='name' value='Telecom_Customer_Churn_prediction&#47;Telecom_churn_dashboard_1' /><param name='tabs' value='yes' /><param name='toolbar' value='yes' /><param name='static_image' value='https:&#47;&#47;public.tableau.com&#47;static&#47;images&#47;Te&#47;Telecom_Customer_Churn_prediction&#47;Telecom_churn_dashboard_1&#47;1.png' /> <param name='animate_transition' value='yes' /><param name='display_static_image' value='yes' /><param name='display_spinner' value='yes' /><param name='display_overlay' value='yes' /><param name='display_count' value='yes' /><param name='language' value='en' /><param name='useGuest' value='true' /></object></div>                <script type='text/javascript'>                    var divElement = document.getElementById('viz1617687716045');                    var vizElement = divElement.getElementsByTagName('object')[0];                    if ( divElement.offsetWidth > 800 ) { vizElement.style.width='100%';vizElement.style.height=(divElement.offsetWidth*0.75)+'px';} else if ( divElement.offsetWidth > 500 ) { vizElement.style.width='100%';vizElement.style.height=(divElement.offsetWidth*0.75)+'px';} else { vizElement.style.width='100%';vizElement.style.minHeight='2400px';vizElement.style.maxHeight=(divElement.offsetWidth*1.77)+'px';}                     var scriptElement = document.createElement('script');                    scriptElement.src = 'https://public.tableau.com/javascripts/api/viz_v1.js';                    vizElement.parentNode.insertBefore(scriptElement, vizElement);                </script>\n"
      ],
      "text/plain": [
       "<IPython.core.display.HTML object>"
      ]
     },
     "metadata": {},
     "output_type": "display_data"
    }
   ],
   "source": [
    "%%HTML\n",
    "<div class='tableauPlaceholder' id='viz1617687716045' style='position: relative'><noscript><a href='#'><img alt=' ' src='https:&#47;&#47;public.tableau.com&#47;static&#47;images&#47;Te&#47;Telecom_Customer_Churn_prediction&#47;Telecom_churn_dashboard_1&#47;1_rss.png' style='border: none' /></a></noscript><object class='tableauViz'  style='display:none;'><param name='host_url' value='https%3A%2F%2Fpublic.tableau.com%2F' /> <param name='embed_code_version' value='3' /> <param name='site_root' value='' /><param name='name' value='Telecom_Customer_Churn_prediction&#47;Telecom_churn_dashboard_1' /><param name='tabs' value='yes' /><param name='toolbar' value='yes' /><param name='static_image' value='https:&#47;&#47;public.tableau.com&#47;static&#47;images&#47;Te&#47;Telecom_Customer_Churn_prediction&#47;Telecom_churn_dashboard_1&#47;1.png' /> <param name='animate_transition' value='yes' /><param name='display_static_image' value='yes' /><param name='display_spinner' value='yes' /><param name='display_overlay' value='yes' /><param name='display_count' value='yes' /><param name='language' value='en' /><param name='useGuest' value='true' /></object></div>                <script type='text/javascript'>                    var divElement = document.getElementById('viz1617687716045');                    var vizElement = divElement.getElementsByTagName('object')[0];                    if ( divElement.offsetWidth > 800 ) { vizElement.style.width='100%';vizElement.style.height=(divElement.offsetWidth*0.75)+'px';} else if ( divElement.offsetWidth > 500 ) { vizElement.style.width='100%';vizElement.style.height=(divElement.offsetWidth*0.75)+'px';} else { vizElement.style.width='100%';vizElement.style.minHeight='2400px';vizElement.style.maxHeight=(divElement.offsetWidth*1.77)+'px';}                     var scriptElement = document.createElement('script');                    scriptElement.src = 'https://public.tableau.com/javascripts/api/viz_v1.js';                    vizElement.parentNode.insertBefore(scriptElement, vizElement);                </script>"
   ]
  },
  {
   "cell_type": "markdown",
   "id": "another-coalition",
   "metadata": {
    "papermill": {
     "duration": 0.055839,
     "end_time": "2021-04-09T12:39:22.189008",
     "exception": false,
     "start_time": "2021-04-09T12:39:22.133169",
     "status": "completed"
    },
    "tags": []
   },
   "source": [
    "* <span style=\"font-family: Arial;font-size:1.2em;color:#3366ff\">If we click yes filter the churned customer on the above tableau dashboard we can observe that most of the Monthly charges are higher than the existing customers\n",
    "* <span style=\"font-family: Arial;font-size:1.2em;color:#3366ff\">If we observe closely we can see that Internet service Fiber Optic user are most who left the telecom service and out of 2627 Fiber optic users 1091 Fiber optic users 41% are left the telecom service\n"
   ]
  },
  {
   "cell_type": "code",
   "execution_count": 10,
   "id": "fluid-italian",
   "metadata": {
    "_kg_hide-input": true,
    "execution": {
     "iopub.execute_input": "2021-04-09T12:39:22.309987Z",
     "iopub.status.busy": "2021-04-09T12:39:22.309260Z",
     "iopub.status.idle": "2021-04-09T12:39:22.326686Z",
     "shell.execute_reply": "2021-04-09T12:39:22.326107Z"
    },
    "jupyter": {
     "source_hidden": true
    },
    "papermill": {
     "duration": 0.08145,
     "end_time": "2021-04-09T12:39:22.326837",
     "exception": false,
     "start_time": "2021-04-09T12:39:22.245387",
     "status": "completed"
    },
    "tags": []
   },
   "outputs": [
    {
     "name": "stdout",
     "output_type": "stream",
     "text": [
      "Total Fiber optic users 2627\n",
      "\n",
      "\n",
      "No. of Fiber optic users Not Churn 1536\n",
      "\n",
      "\n",
      "No. of Fiber optic users Churned 1091\n"
     ]
    }
   ],
   "source": [
    "# churn Fiber optic users\n",
    "print('Total Fiber optic users',df[df['InternetService'] =='Fiber optic']['InternetService'].count())\n",
    "print('\\n')\n",
    "print('No. of Fiber optic users Not Churn',df[(df['Churn'] =='No')& (df['InternetService'] =='Fiber optic')]['InternetService'].count())\n",
    "print('\\n')\n",
    "print('No. of Fiber optic users Churned',df[(df['Churn'] =='Yes')& (df['InternetService'] =='Fiber optic')]['InternetService'].count())"
   ]
  },
  {
   "cell_type": "code",
   "execution_count": 11,
   "id": "framed-spanking",
   "metadata": {
    "execution": {
     "iopub.execute_input": "2021-04-09T12:39:22.450091Z",
     "iopub.status.busy": "2021-04-09T12:39:22.449119Z",
     "iopub.status.idle": "2021-04-09T12:39:22.459421Z",
     "shell.execute_reply": "2021-04-09T12:39:22.458899Z"
    },
    "jupyter": {
     "source_hidden": true
    },
    "papermill": {
     "duration": 0.075824,
     "end_time": "2021-04-09T12:39:22.459564",
     "exception": false,
     "start_time": "2021-04-09T12:39:22.383740",
     "status": "completed"
    },
    "tags": []
   },
   "outputs": [
    {
     "name": "stdout",
     "output_type": "stream",
     "text": [
      "Median monthly charges of staying customers 94.75\n",
      "Median monthly charges of churned customers 87.4\n"
     ]
    }
   ],
   "source": [
    "print('Median monthly charges of staying customers',df[(df['Churn'] =='No')& (df['InternetService'] =='Fiber optic')]['MonthlyCharges'].median())\n",
    "print('Median monthly charges of churned customers',df[(df['Churn'] =='Yes')& (df['InternetService'] =='Fiber optic')]['MonthlyCharges'].median())"
   ]
  },
  {
   "cell_type": "code",
   "execution_count": 12,
   "id": "human-update",
   "metadata": {
    "_kg_hide-input": true,
    "execution": {
     "iopub.execute_input": "2021-04-09T12:39:22.580393Z",
     "iopub.status.busy": "2021-04-09T12:39:22.579621Z",
     "iopub.status.idle": "2021-04-09T12:39:22.582472Z",
     "shell.execute_reply": "2021-04-09T12:39:22.583053Z"
    },
    "jupyter": {
     "source_hidden": true
    },
    "papermill": {
     "duration": 0.066109,
     "end_time": "2021-04-09T12:39:22.583216",
     "exception": false,
     "start_time": "2021-04-09T12:39:22.517107",
     "status": "completed"
    },
    "tags": []
   },
   "outputs": [
    {
     "data": {
      "text/html": [
       "<div class='tableauPlaceholder' id='viz1617689871779' style='position: relative'><noscript><a href='#'><img alt=' ' src='https:&#47;&#47;public.tableau.com&#47;static&#47;images&#47;Te&#47;Telecom_Customer_Churn_prediction&#47;Telecom_churn_dashboard_2&#47;1_rss.png' style='border: none' /></a></noscript><object class='tableauViz'  style='display:none;'><param name='host_url' value='https%3A%2F%2Fpublic.tableau.com%2F' /> <param name='embed_code_version' value='3' /> <param name='site_root' value='' /><param name='name' value='Telecom_Customer_Churn_prediction&#47;Telecom_churn_dashboard_2' /><param name='tabs' value='yes' /><param name='toolbar' value='yes' /><param name='static_image' value='https:&#47;&#47;public.tableau.com&#47;static&#47;images&#47;Te&#47;Telecom_Customer_Churn_prediction&#47;Telecom_churn_dashboard_2&#47;1.png' /> <param name='animate_transition' value='yes' /><param name='display_static_image' value='yes' /><param name='display_spinner' value='yes' /><param name='display_overlay' value='yes' /><param name='display_count' value='yes' /><param name='language' value='en' /></object></div>                <script type='text/javascript'>                    var divElement = document.getElementById('viz1617689871779');                    var vizElement = divElement.getElementsByTagName('object')[0];                    if ( divElement.offsetWidth > 800 ) { vizElement.style.width='100%';vizElement.style.height=(divElement.offsetWidth*0.75)+'px';} else if ( divElement.offsetWidth > 500 ) { vizElement.style.width='100%';vizElement.style.height=(divElement.offsetWidth*0.75)+'px';} else { vizElement.style.width='100%';vizElement.style.minHeight='2400px';vizElement.style.maxHeight=(divElement.offsetWidth*1.77)+'px';}                     var scriptElement = document.createElement('script');                    scriptElement.src = 'https://public.tableau.com/javascripts/api/viz_v1.js';                    vizElement.parentNode.insertBefore(scriptElement, vizElement);                </script>\n"
      ],
      "text/plain": [
       "<IPython.core.display.HTML object>"
      ]
     },
     "metadata": {},
     "output_type": "display_data"
    }
   ],
   "source": [
    "%%HTML\n",
    "<div class='tableauPlaceholder' id='viz1617689871779' style='position: relative'><noscript><a href='#'><img alt=' ' src='https:&#47;&#47;public.tableau.com&#47;static&#47;images&#47;Te&#47;Telecom_Customer_Churn_prediction&#47;Telecom_churn_dashboard_2&#47;1_rss.png' style='border: none' /></a></noscript><object class='tableauViz'  style='display:none;'><param name='host_url' value='https%3A%2F%2Fpublic.tableau.com%2F' /> <param name='embed_code_version' value='3' /> <param name='site_root' value='' /><param name='name' value='Telecom_Customer_Churn_prediction&#47;Telecom_churn_dashboard_2' /><param name='tabs' value='yes' /><param name='toolbar' value='yes' /><param name='static_image' value='https:&#47;&#47;public.tableau.com&#47;static&#47;images&#47;Te&#47;Telecom_Customer_Churn_prediction&#47;Telecom_churn_dashboard_2&#47;1.png' /> <param name='animate_transition' value='yes' /><param name='display_static_image' value='yes' /><param name='display_spinner' value='yes' /><param name='display_overlay' value='yes' /><param name='display_count' value='yes' /><param name='language' value='en' /></object></div>                <script type='text/javascript'>                    var divElement = document.getElementById('viz1617689871779');                    var vizElement = divElement.getElementsByTagName('object')[0];                    if ( divElement.offsetWidth > 800 ) { vizElement.style.width='100%';vizElement.style.height=(divElement.offsetWidth*0.75)+'px';} else if ( divElement.offsetWidth > 500 ) { vizElement.style.width='100%';vizElement.style.height=(divElement.offsetWidth*0.75)+'px';} else { vizElement.style.width='100%';vizElement.style.minHeight='2400px';vizElement.style.maxHeight=(divElement.offsetWidth*1.77)+'px';}                     var scriptElement = document.createElement('script');                    scriptElement.src = 'https://public.tableau.com/javascripts/api/viz_v1.js';                    vizElement.parentNode.insertBefore(scriptElement, vizElement);                </script>"
   ]
  },
  {
   "cell_type": "markdown",
   "id": "green-dealer",
   "metadata": {
    "papermill": {
     "duration": 0.058794,
     "end_time": "2021-04-09T12:39:22.699922",
     "exception": false,
     "start_time": "2021-04-09T12:39:22.641128",
     "status": "completed"
    },
    "tags": []
   },
   "source": [
    "<div style=\"color:white;\n",
    "           display:fill;\n",
    "           border-radius:50px;\n",
    "           background-color:#E8B60B;\n",
    "           font-size:300%;\n",
    "           font-family:Arial;\n",
    "           letter-spacing:0.10px\">\n",
    "<p style=\"padding: 10px;\n",
    "          color:black;\n",
    "          text-align:center;\">Preprocessing\n",
    "</p>\n",
    "</div>"
   ]
  },
  {
   "cell_type": "markdown",
   "id": "offensive-samba",
   "metadata": {
    "papermill": {
     "duration": 0.057236,
     "end_time": "2021-04-09T12:39:22.814793",
     "exception": false,
     "start_time": "2021-04-09T12:39:22.757557",
     "status": "completed"
    },
    "tags": []
   },
   "source": [
    "# Preprocessing"
   ]
  },
  {
   "cell_type": "markdown",
   "id": "capital-butler",
   "metadata": {
    "papermill": {
     "duration": 0.059778,
     "end_time": "2021-04-09T12:39:22.932587",
     "exception": false,
     "start_time": "2021-04-09T12:39:22.872809",
     "status": "completed"
    },
    "tags": []
   },
   "source": [
    "## <span style=\"font-family: Arial;font-size:1.2em;color:#3366ff\">i. Missing Values "
   ]
  },
  {
   "cell_type": "code",
   "execution_count": 13,
   "id": "olive-checkout",
   "metadata": {
    "_kg_hide-input": true,
    "execution": {
     "iopub.execute_input": "2021-04-09T12:39:23.056437Z",
     "iopub.status.busy": "2021-04-09T12:39:23.055782Z",
     "iopub.status.idle": "2021-04-09T12:39:24.072755Z",
     "shell.execute_reply": "2021-04-09T12:39:24.072104Z"
    },
    "jupyter": {
     "source_hidden": true
    },
    "papermill": {
     "duration": 1.080634,
     "end_time": "2021-04-09T12:39:24.072897",
     "exception": false,
     "start_time": "2021-04-09T12:39:22.992263",
     "status": "completed"
    },
    "tags": []
   },
   "outputs": [
    {
     "data": {
      "application/vnd.plotly.v1+json": {
       "config": {
        "plotlyServerURL": "https://plot.ly"
       },
       "data": [
        {
         "alignmentgroup": "True",
         "hovertemplate": "variables=%{x}<br>missing values in percentage=%{text}<extra></extra>",
         "legendgroup": "",
         "marker": {
          "color": "#F8766D"
         },
         "name": "",
         "offsetgroup": "",
         "orientation": "v",
         "showlegend": false,
         "text": [
          0.0,
          0.0,
          0.0,
          0.0,
          0.0,
          0.0,
          0.0,
          0.0,
          0.0,
          0.0,
          0.0,
          0.0,
          0.0,
          0.0,
          0.0,
          0.0,
          0.0,
          0.0,
          0.0,
          0.0
         ],
         "textposition": "inside",
         "texttemplate": "%{text:.2s}",
         "type": "bar",
         "x": [
          "gender",
          "SeniorCitizen",
          "TotalCharges",
          "MonthlyCharges",
          "PaymentMethod",
          "PaperlessBilling",
          "Contract",
          "StreamingMovies",
          "StreamingTV",
          "TechSupport",
          "DeviceProtection",
          "OnlineBackup",
          "OnlineSecurity",
          "InternetService",
          "MultipleLines",
          "PhoneService",
          "tenure",
          "Dependents",
          "Partner",
          "Churn"
         ],
         "xaxis": "x",
         "y": [
          0.0,
          0.0,
          0.0,
          0.0,
          0.0,
          0.0,
          0.0,
          0.0,
          0.0,
          0.0,
          0.0,
          0.0,
          0.0,
          0.0,
          0.0,
          0.0,
          0.0,
          0.0,
          0.0,
          0.0
         ],
         "yaxis": "y"
        }
       ],
       "layout": {
        "barmode": "relative",
        "legend": {
         "tracegroupgap": 0
        },
        "template": {
         "data": {
          "bar": [
           {
            "error_x": {
             "color": "rgb(51,51,51)"
            },
            "error_y": {
             "color": "rgb(51,51,51)"
            },
            "marker": {
             "line": {
              "color": "rgb(237,237,237)",
              "width": 0.5
             }
            },
            "type": "bar"
           }
          ],
          "barpolar": [
           {
            "marker": {
             "line": {
              "color": "rgb(237,237,237)",
              "width": 0.5
             }
            },
            "type": "barpolar"
           }
          ],
          "carpet": [
           {
            "aaxis": {
             "endlinecolor": "rgb(51,51,51)",
             "gridcolor": "white",
             "linecolor": "white",
             "minorgridcolor": "white",
             "startlinecolor": "rgb(51,51,51)"
            },
            "baxis": {
             "endlinecolor": "rgb(51,51,51)",
             "gridcolor": "white",
             "linecolor": "white",
             "minorgridcolor": "white",
             "startlinecolor": "rgb(51,51,51)"
            },
            "type": "carpet"
           }
          ],
          "choropleth": [
           {
            "colorbar": {
             "outlinewidth": 0,
             "tickcolor": "rgb(237,237,237)",
             "ticklen": 6,
             "ticks": "inside"
            },
            "type": "choropleth"
           }
          ],
          "contour": [
           {
            "colorbar": {
             "outlinewidth": 0,
             "tickcolor": "rgb(237,237,237)",
             "ticklen": 6,
             "ticks": "inside"
            },
            "colorscale": [
             [
              0,
              "rgb(20,44,66)"
             ],
             [
              1,
              "rgb(90,179,244)"
             ]
            ],
            "type": "contour"
           }
          ],
          "contourcarpet": [
           {
            "colorbar": {
             "outlinewidth": 0,
             "tickcolor": "rgb(237,237,237)",
             "ticklen": 6,
             "ticks": "inside"
            },
            "type": "contourcarpet"
           }
          ],
          "heatmap": [
           {
            "colorbar": {
             "outlinewidth": 0,
             "tickcolor": "rgb(237,237,237)",
             "ticklen": 6,
             "ticks": "inside"
            },
            "colorscale": [
             [
              0,
              "rgb(20,44,66)"
             ],
             [
              1,
              "rgb(90,179,244)"
             ]
            ],
            "type": "heatmap"
           }
          ],
          "heatmapgl": [
           {
            "colorbar": {
             "outlinewidth": 0,
             "tickcolor": "rgb(237,237,237)",
             "ticklen": 6,
             "ticks": "inside"
            },
            "colorscale": [
             [
              0,
              "rgb(20,44,66)"
             ],
             [
              1,
              "rgb(90,179,244)"
             ]
            ],
            "type": "heatmapgl"
           }
          ],
          "histogram": [
           {
            "marker": {
             "colorbar": {
              "outlinewidth": 0,
              "tickcolor": "rgb(237,237,237)",
              "ticklen": 6,
              "ticks": "inside"
             }
            },
            "type": "histogram"
           }
          ],
          "histogram2d": [
           {
            "colorbar": {
             "outlinewidth": 0,
             "tickcolor": "rgb(237,237,237)",
             "ticklen": 6,
             "ticks": "inside"
            },
            "colorscale": [
             [
              0,
              "rgb(20,44,66)"
             ],
             [
              1,
              "rgb(90,179,244)"
             ]
            ],
            "type": "histogram2d"
           }
          ],
          "histogram2dcontour": [
           {
            "colorbar": {
             "outlinewidth": 0,
             "tickcolor": "rgb(237,237,237)",
             "ticklen": 6,
             "ticks": "inside"
            },
            "colorscale": [
             [
              0,
              "rgb(20,44,66)"
             ],
             [
              1,
              "rgb(90,179,244)"
             ]
            ],
            "type": "histogram2dcontour"
           }
          ],
          "mesh3d": [
           {
            "colorbar": {
             "outlinewidth": 0,
             "tickcolor": "rgb(237,237,237)",
             "ticklen": 6,
             "ticks": "inside"
            },
            "type": "mesh3d"
           }
          ],
          "parcoords": [
           {
            "line": {
             "colorbar": {
              "outlinewidth": 0,
              "tickcolor": "rgb(237,237,237)",
              "ticklen": 6,
              "ticks": "inside"
             }
            },
            "type": "parcoords"
           }
          ],
          "pie": [
           {
            "automargin": true,
            "type": "pie"
           }
          ],
          "scatter": [
           {
            "marker": {
             "colorbar": {
              "outlinewidth": 0,
              "tickcolor": "rgb(237,237,237)",
              "ticklen": 6,
              "ticks": "inside"
             }
            },
            "type": "scatter"
           }
          ],
          "scatter3d": [
           {
            "line": {
             "colorbar": {
              "outlinewidth": 0,
              "tickcolor": "rgb(237,237,237)",
              "ticklen": 6,
              "ticks": "inside"
             }
            },
            "marker": {
             "colorbar": {
              "outlinewidth": 0,
              "tickcolor": "rgb(237,237,237)",
              "ticklen": 6,
              "ticks": "inside"
             }
            },
            "type": "scatter3d"
           }
          ],
          "scattercarpet": [
           {
            "marker": {
             "colorbar": {
              "outlinewidth": 0,
              "tickcolor": "rgb(237,237,237)",
              "ticklen": 6,
              "ticks": "inside"
             }
            },
            "type": "scattercarpet"
           }
          ],
          "scattergeo": [
           {
            "marker": {
             "colorbar": {
              "outlinewidth": 0,
              "tickcolor": "rgb(237,237,237)",
              "ticklen": 6,
              "ticks": "inside"
             }
            },
            "type": "scattergeo"
           }
          ],
          "scattergl": [
           {
            "marker": {
             "colorbar": {
              "outlinewidth": 0,
              "tickcolor": "rgb(237,237,237)",
              "ticklen": 6,
              "ticks": "inside"
             }
            },
            "type": "scattergl"
           }
          ],
          "scattermapbox": [
           {
            "marker": {
             "colorbar": {
              "outlinewidth": 0,
              "tickcolor": "rgb(237,237,237)",
              "ticklen": 6,
              "ticks": "inside"
             }
            },
            "type": "scattermapbox"
           }
          ],
          "scatterpolar": [
           {
            "marker": {
             "colorbar": {
              "outlinewidth": 0,
              "tickcolor": "rgb(237,237,237)",
              "ticklen": 6,
              "ticks": "inside"
             }
            },
            "type": "scatterpolar"
           }
          ],
          "scatterpolargl": [
           {
            "marker": {
             "colorbar": {
              "outlinewidth": 0,
              "tickcolor": "rgb(237,237,237)",
              "ticklen": 6,
              "ticks": "inside"
             }
            },
            "type": "scatterpolargl"
           }
          ],
          "scatterternary": [
           {
            "marker": {
             "colorbar": {
              "outlinewidth": 0,
              "tickcolor": "rgb(237,237,237)",
              "ticklen": 6,
              "ticks": "inside"
             }
            },
            "type": "scatterternary"
           }
          ],
          "surface": [
           {
            "colorbar": {
             "outlinewidth": 0,
             "tickcolor": "rgb(237,237,237)",
             "ticklen": 6,
             "ticks": "inside"
            },
            "colorscale": [
             [
              0,
              "rgb(20,44,66)"
             ],
             [
              1,
              "rgb(90,179,244)"
             ]
            ],
            "type": "surface"
           }
          ],
          "table": [
           {
            "cells": {
             "fill": {
              "color": "rgb(237,237,237)"
             },
             "line": {
              "color": "white"
             }
            },
            "header": {
             "fill": {
              "color": "rgb(217,217,217)"
             },
             "line": {
              "color": "white"
             }
            },
            "type": "table"
           }
          ]
         },
         "layout": {
          "annotationdefaults": {
           "arrowhead": 0,
           "arrowwidth": 1
          },
          "autotypenumbers": "strict",
          "coloraxis": {
           "colorbar": {
            "outlinewidth": 0,
            "tickcolor": "rgb(237,237,237)",
            "ticklen": 6,
            "ticks": "inside"
           }
          },
          "colorscale": {
           "sequential": [
            [
             0,
             "rgb(20,44,66)"
            ],
            [
             1,
             "rgb(90,179,244)"
            ]
           ],
           "sequentialminus": [
            [
             0,
             "rgb(20,44,66)"
            ],
            [
             1,
             "rgb(90,179,244)"
            ]
           ]
          },
          "colorway": [
           "#F8766D",
           "#A3A500",
           "#00BF7D",
           "#00B0F6",
           "#E76BF3"
          ],
          "font": {
           "color": "rgb(51,51,51)"
          },
          "geo": {
           "bgcolor": "white",
           "lakecolor": "white",
           "landcolor": "rgb(237,237,237)",
           "showlakes": true,
           "showland": true,
           "subunitcolor": "white"
          },
          "hoverlabel": {
           "align": "left"
          },
          "hovermode": "closest",
          "paper_bgcolor": "white",
          "plot_bgcolor": "rgb(237,237,237)",
          "polar": {
           "angularaxis": {
            "gridcolor": "white",
            "linecolor": "white",
            "showgrid": true,
            "tickcolor": "rgb(51,51,51)",
            "ticks": "outside"
           },
           "bgcolor": "rgb(237,237,237)",
           "radialaxis": {
            "gridcolor": "white",
            "linecolor": "white",
            "showgrid": true,
            "tickcolor": "rgb(51,51,51)",
            "ticks": "outside"
           }
          },
          "scene": {
           "xaxis": {
            "backgroundcolor": "rgb(237,237,237)",
            "gridcolor": "white",
            "gridwidth": 2,
            "linecolor": "white",
            "showbackground": true,
            "showgrid": true,
            "tickcolor": "rgb(51,51,51)",
            "ticks": "outside",
            "zerolinecolor": "white"
           },
           "yaxis": {
            "backgroundcolor": "rgb(237,237,237)",
            "gridcolor": "white",
            "gridwidth": 2,
            "linecolor": "white",
            "showbackground": true,
            "showgrid": true,
            "tickcolor": "rgb(51,51,51)",
            "ticks": "outside",
            "zerolinecolor": "white"
           },
           "zaxis": {
            "backgroundcolor": "rgb(237,237,237)",
            "gridcolor": "white",
            "gridwidth": 2,
            "linecolor": "white",
            "showbackground": true,
            "showgrid": true,
            "tickcolor": "rgb(51,51,51)",
            "ticks": "outside",
            "zerolinecolor": "white"
           }
          },
          "shapedefaults": {
           "fillcolor": "black",
           "line": {
            "width": 0
           },
           "opacity": 0.3
          },
          "ternary": {
           "aaxis": {
            "gridcolor": "white",
            "linecolor": "white",
            "showgrid": true,
            "tickcolor": "rgb(51,51,51)",
            "ticks": "outside"
           },
           "baxis": {
            "gridcolor": "white",
            "linecolor": "white",
            "showgrid": true,
            "tickcolor": "rgb(51,51,51)",
            "ticks": "outside"
           },
           "bgcolor": "rgb(237,237,237)",
           "caxis": {
            "gridcolor": "white",
            "linecolor": "white",
            "showgrid": true,
            "tickcolor": "rgb(51,51,51)",
            "ticks": "outside"
           }
          },
          "xaxis": {
           "automargin": true,
           "gridcolor": "white",
           "linecolor": "white",
           "showgrid": true,
           "tickcolor": "rgb(51,51,51)",
           "ticks": "outside",
           "title": {
            "standoff": 15
           },
           "zerolinecolor": "white"
          },
          "yaxis": {
           "automargin": true,
           "gridcolor": "white",
           "linecolor": "white",
           "showgrid": true,
           "tickcolor": "rgb(51,51,51)",
           "ticks": "outside",
           "title": {
            "standoff": 15
           },
           "zerolinecolor": "white"
          }
         }
        },
        "title": {
         "text": "Missing values % in each column"
        },
        "uniformtext": {
         "minsize": 8,
         "mode": "hide"
        },
        "xaxis": {
         "anchor": "y",
         "domain": [
          0.0,
          1.0
         ],
         "title": {
          "text": "variables"
         }
        },
        "yaxis": {
         "anchor": "x",
         "domain": [
          0.0,
          1.0
         ],
         "title": {
          "text": "missing values in percentage"
         }
        }
       }
      },
      "text/html": [
       "<div>                            <div id=\"b3822e95-5f13-4a68-ac2c-c8c37f843b3e\" class=\"plotly-graph-div\" style=\"height:525px; width:100%;\"></div>            <script type=\"text/javascript\">                require([\"plotly\"], function(Plotly) {                    window.PLOTLYENV=window.PLOTLYENV || {};                                    if (document.getElementById(\"b3822e95-5f13-4a68-ac2c-c8c37f843b3e\")) {                    Plotly.newPlot(                        \"b3822e95-5f13-4a68-ac2c-c8c37f843b3e\",                        [{\"alignmentgroup\": \"True\", \"hovertemplate\": \"variables=%{x}<br>missing values in percentage=%{text}<extra></extra>\", \"legendgroup\": \"\", \"marker\": {\"color\": \"#F8766D\"}, \"name\": \"\", \"offsetgroup\": \"\", \"orientation\": \"v\", \"showlegend\": false, \"text\": [0.0, 0.0, 0.0, 0.0, 0.0, 0.0, 0.0, 0.0, 0.0, 0.0, 0.0, 0.0, 0.0, 0.0, 0.0, 0.0, 0.0, 0.0, 0.0, 0.0], \"textposition\": \"inside\", \"texttemplate\": \"%{text:.2s}\", \"type\": \"bar\", \"x\": [\"gender\", \"SeniorCitizen\", \"TotalCharges\", \"MonthlyCharges\", \"PaymentMethod\", \"PaperlessBilling\", \"Contract\", \"StreamingMovies\", \"StreamingTV\", \"TechSupport\", \"DeviceProtection\", \"OnlineBackup\", \"OnlineSecurity\", \"InternetService\", \"MultipleLines\", \"PhoneService\", \"tenure\", \"Dependents\", \"Partner\", \"Churn\"], \"xaxis\": \"x\", \"y\": [0.0, 0.0, 0.0, 0.0, 0.0, 0.0, 0.0, 0.0, 0.0, 0.0, 0.0, 0.0, 0.0, 0.0, 0.0, 0.0, 0.0, 0.0, 0.0, 0.0], \"yaxis\": \"y\"}],                        {\"barmode\": \"relative\", \"legend\": {\"tracegroupgap\": 0}, \"template\": {\"data\": {\"bar\": [{\"error_x\": {\"color\": \"rgb(51,51,51)\"}, \"error_y\": {\"color\": \"rgb(51,51,51)\"}, \"marker\": {\"line\": {\"color\": \"rgb(237,237,237)\", \"width\": 0.5}}, \"type\": \"bar\"}], \"barpolar\": [{\"marker\": {\"line\": {\"color\": \"rgb(237,237,237)\", \"width\": 0.5}}, \"type\": \"barpolar\"}], \"carpet\": [{\"aaxis\": {\"endlinecolor\": \"rgb(51,51,51)\", \"gridcolor\": \"white\", \"linecolor\": \"white\", \"minorgridcolor\": \"white\", \"startlinecolor\": \"rgb(51,51,51)\"}, \"baxis\": {\"endlinecolor\": \"rgb(51,51,51)\", \"gridcolor\": \"white\", \"linecolor\": \"white\", \"minorgridcolor\": \"white\", \"startlinecolor\": \"rgb(51,51,51)\"}, \"type\": \"carpet\"}], \"choropleth\": [{\"colorbar\": {\"outlinewidth\": 0, \"tickcolor\": \"rgb(237,237,237)\", \"ticklen\": 6, \"ticks\": \"inside\"}, \"type\": \"choropleth\"}], \"contour\": [{\"colorbar\": {\"outlinewidth\": 0, \"tickcolor\": \"rgb(237,237,237)\", \"ticklen\": 6, \"ticks\": \"inside\"}, \"colorscale\": [[0, \"rgb(20,44,66)\"], [1, \"rgb(90,179,244)\"]], \"type\": \"contour\"}], \"contourcarpet\": [{\"colorbar\": {\"outlinewidth\": 0, \"tickcolor\": \"rgb(237,237,237)\", \"ticklen\": 6, \"ticks\": \"inside\"}, \"type\": \"contourcarpet\"}], \"heatmap\": [{\"colorbar\": {\"outlinewidth\": 0, \"tickcolor\": \"rgb(237,237,237)\", \"ticklen\": 6, \"ticks\": \"inside\"}, \"colorscale\": [[0, \"rgb(20,44,66)\"], [1, \"rgb(90,179,244)\"]], \"type\": \"heatmap\"}], \"heatmapgl\": [{\"colorbar\": {\"outlinewidth\": 0, \"tickcolor\": \"rgb(237,237,237)\", \"ticklen\": 6, \"ticks\": \"inside\"}, \"colorscale\": [[0, \"rgb(20,44,66)\"], [1, \"rgb(90,179,244)\"]], \"type\": \"heatmapgl\"}], \"histogram\": [{\"marker\": {\"colorbar\": {\"outlinewidth\": 0, \"tickcolor\": \"rgb(237,237,237)\", \"ticklen\": 6, \"ticks\": \"inside\"}}, \"type\": \"histogram\"}], \"histogram2d\": [{\"colorbar\": {\"outlinewidth\": 0, \"tickcolor\": \"rgb(237,237,237)\", \"ticklen\": 6, \"ticks\": \"inside\"}, \"colorscale\": [[0, \"rgb(20,44,66)\"], [1, \"rgb(90,179,244)\"]], \"type\": \"histogram2d\"}], \"histogram2dcontour\": [{\"colorbar\": {\"outlinewidth\": 0, \"tickcolor\": \"rgb(237,237,237)\", \"ticklen\": 6, \"ticks\": \"inside\"}, \"colorscale\": [[0, \"rgb(20,44,66)\"], [1, \"rgb(90,179,244)\"]], \"type\": \"histogram2dcontour\"}], \"mesh3d\": [{\"colorbar\": {\"outlinewidth\": 0, \"tickcolor\": \"rgb(237,237,237)\", \"ticklen\": 6, \"ticks\": \"inside\"}, \"type\": \"mesh3d\"}], \"parcoords\": [{\"line\": {\"colorbar\": {\"outlinewidth\": 0, \"tickcolor\": \"rgb(237,237,237)\", \"ticklen\": 6, \"ticks\": \"inside\"}}, \"type\": \"parcoords\"}], \"pie\": [{\"automargin\": true, \"type\": \"pie\"}], \"scatter\": [{\"marker\": {\"colorbar\": {\"outlinewidth\": 0, \"tickcolor\": \"rgb(237,237,237)\", \"ticklen\": 6, \"ticks\": \"inside\"}}, \"type\": \"scatter\"}], \"scatter3d\": [{\"line\": {\"colorbar\": {\"outlinewidth\": 0, \"tickcolor\": \"rgb(237,237,237)\", \"ticklen\": 6, \"ticks\": \"inside\"}}, \"marker\": {\"colorbar\": {\"outlinewidth\": 0, \"tickcolor\": \"rgb(237,237,237)\", \"ticklen\": 6, \"ticks\": \"inside\"}}, \"type\": \"scatter3d\"}], \"scattercarpet\": [{\"marker\": {\"colorbar\": {\"outlinewidth\": 0, \"tickcolor\": \"rgb(237,237,237)\", \"ticklen\": 6, \"ticks\": \"inside\"}}, \"type\": \"scattercarpet\"}], \"scattergeo\": [{\"marker\": {\"colorbar\": {\"outlinewidth\": 0, \"tickcolor\": \"rgb(237,237,237)\", \"ticklen\": 6, \"ticks\": \"inside\"}}, \"type\": \"scattergeo\"}], \"scattergl\": [{\"marker\": {\"colorbar\": {\"outlinewidth\": 0, \"tickcolor\": \"rgb(237,237,237)\", \"ticklen\": 6, \"ticks\": \"inside\"}}, \"type\": \"scattergl\"}], \"scattermapbox\": [{\"marker\": {\"colorbar\": {\"outlinewidth\": 0, \"tickcolor\": \"rgb(237,237,237)\", \"ticklen\": 6, \"ticks\": \"inside\"}}, \"type\": \"scattermapbox\"}], \"scatterpolar\": [{\"marker\": {\"colorbar\": {\"outlinewidth\": 0, \"tickcolor\": \"rgb(237,237,237)\", \"ticklen\": 6, \"ticks\": \"inside\"}}, \"type\": \"scatterpolar\"}], \"scatterpolargl\": [{\"marker\": {\"colorbar\": {\"outlinewidth\": 0, \"tickcolor\": \"rgb(237,237,237)\", \"ticklen\": 6, \"ticks\": \"inside\"}}, \"type\": \"scatterpolargl\"}], \"scatterternary\": [{\"marker\": {\"colorbar\": {\"outlinewidth\": 0, \"tickcolor\": \"rgb(237,237,237)\", \"ticklen\": 6, \"ticks\": \"inside\"}}, \"type\": \"scatterternary\"}], \"surface\": [{\"colorbar\": {\"outlinewidth\": 0, \"tickcolor\": \"rgb(237,237,237)\", \"ticklen\": 6, \"ticks\": \"inside\"}, \"colorscale\": [[0, \"rgb(20,44,66)\"], [1, \"rgb(90,179,244)\"]], \"type\": \"surface\"}], \"table\": [{\"cells\": {\"fill\": {\"color\": \"rgb(237,237,237)\"}, \"line\": {\"color\": \"white\"}}, \"header\": {\"fill\": {\"color\": \"rgb(217,217,217)\"}, \"line\": {\"color\": \"white\"}}, \"type\": \"table\"}]}, \"layout\": {\"annotationdefaults\": {\"arrowhead\": 0, \"arrowwidth\": 1}, \"autotypenumbers\": \"strict\", \"coloraxis\": {\"colorbar\": {\"outlinewidth\": 0, \"tickcolor\": \"rgb(237,237,237)\", \"ticklen\": 6, \"ticks\": \"inside\"}}, \"colorscale\": {\"sequential\": [[0, \"rgb(20,44,66)\"], [1, \"rgb(90,179,244)\"]], \"sequentialminus\": [[0, \"rgb(20,44,66)\"], [1, \"rgb(90,179,244)\"]]}, \"colorway\": [\"#F8766D\", \"#A3A500\", \"#00BF7D\", \"#00B0F6\", \"#E76BF3\"], \"font\": {\"color\": \"rgb(51,51,51)\"}, \"geo\": {\"bgcolor\": \"white\", \"lakecolor\": \"white\", \"landcolor\": \"rgb(237,237,237)\", \"showlakes\": true, \"showland\": true, \"subunitcolor\": \"white\"}, \"hoverlabel\": {\"align\": \"left\"}, \"hovermode\": \"closest\", \"paper_bgcolor\": \"white\", \"plot_bgcolor\": \"rgb(237,237,237)\", \"polar\": {\"angularaxis\": {\"gridcolor\": \"white\", \"linecolor\": \"white\", \"showgrid\": true, \"tickcolor\": \"rgb(51,51,51)\", \"ticks\": \"outside\"}, \"bgcolor\": \"rgb(237,237,237)\", \"radialaxis\": {\"gridcolor\": \"white\", \"linecolor\": \"white\", \"showgrid\": true, \"tickcolor\": \"rgb(51,51,51)\", \"ticks\": \"outside\"}}, \"scene\": {\"xaxis\": {\"backgroundcolor\": \"rgb(237,237,237)\", \"gridcolor\": \"white\", \"gridwidth\": 2, \"linecolor\": \"white\", \"showbackground\": true, \"showgrid\": true, \"tickcolor\": \"rgb(51,51,51)\", \"ticks\": \"outside\", \"zerolinecolor\": \"white\"}, \"yaxis\": {\"backgroundcolor\": \"rgb(237,237,237)\", \"gridcolor\": \"white\", \"gridwidth\": 2, \"linecolor\": \"white\", \"showbackground\": true, \"showgrid\": true, \"tickcolor\": \"rgb(51,51,51)\", \"ticks\": \"outside\", \"zerolinecolor\": \"white\"}, \"zaxis\": {\"backgroundcolor\": \"rgb(237,237,237)\", \"gridcolor\": \"white\", \"gridwidth\": 2, \"linecolor\": \"white\", \"showbackground\": true, \"showgrid\": true, \"tickcolor\": \"rgb(51,51,51)\", \"ticks\": \"outside\", \"zerolinecolor\": \"white\"}}, \"shapedefaults\": {\"fillcolor\": \"black\", \"line\": {\"width\": 0}, \"opacity\": 0.3}, \"ternary\": {\"aaxis\": {\"gridcolor\": \"white\", \"linecolor\": \"white\", \"showgrid\": true, \"tickcolor\": \"rgb(51,51,51)\", \"ticks\": \"outside\"}, \"baxis\": {\"gridcolor\": \"white\", \"linecolor\": \"white\", \"showgrid\": true, \"tickcolor\": \"rgb(51,51,51)\", \"ticks\": \"outside\"}, \"bgcolor\": \"rgb(237,237,237)\", \"caxis\": {\"gridcolor\": \"white\", \"linecolor\": \"white\", \"showgrid\": true, \"tickcolor\": \"rgb(51,51,51)\", \"ticks\": \"outside\"}}, \"xaxis\": {\"automargin\": true, \"gridcolor\": \"white\", \"linecolor\": \"white\", \"showgrid\": true, \"tickcolor\": \"rgb(51,51,51)\", \"ticks\": \"outside\", \"title\": {\"standoff\": 15}, \"zerolinecolor\": \"white\"}, \"yaxis\": {\"automargin\": true, \"gridcolor\": \"white\", \"linecolor\": \"white\", \"showgrid\": true, \"tickcolor\": \"rgb(51,51,51)\", \"ticks\": \"outside\", \"title\": {\"standoff\": 15}, \"zerolinecolor\": \"white\"}}}, \"title\": {\"text\": \"Missing values % in each column\"}, \"uniformtext\": {\"minsize\": 8, \"mode\": \"hide\"}, \"xaxis\": {\"anchor\": \"y\", \"domain\": [0.0, 1.0], \"title\": {\"text\": \"variables\"}}, \"yaxis\": {\"anchor\": \"x\", \"domain\": [0.0, 1.0], \"title\": {\"text\": \"missing values in percentage\"}}},                        {\"responsive\": true}                    ).then(function(){\n",
       "                            \n",
       "var gd = document.getElementById('b3822e95-5f13-4a68-ac2c-c8c37f843b3e');\n",
       "var x = new MutationObserver(function (mutations, observer) {{\n",
       "        var display = window.getComputedStyle(gd).display;\n",
       "        if (!display || display === 'none') {{\n",
       "            console.log([gd, 'removed!']);\n",
       "            Plotly.purge(gd);\n",
       "            observer.disconnect();\n",
       "        }}\n",
       "}});\n",
       "\n",
       "// Listen for the removal of the full notebook cells\n",
       "var notebookContainer = gd.closest('#notebook-container');\n",
       "if (notebookContainer) {{\n",
       "    x.observe(notebookContainer, {childList: true});\n",
       "}}\n",
       "\n",
       "// Listen for the clearing of the current output cell\n",
       "var outputEl = gd.closest('.output');\n",
       "if (outputEl) {{\n",
       "    x.observe(outputEl, {childList: true});\n",
       "}}\n",
       "\n",
       "                        })                };                });            </script>        </div>"
      ]
     },
     "metadata": {},
     "output_type": "display_data"
    }
   ],
   "source": [
    "# missing values\n",
    "missing_value = 100* df.isnull().sum()/len(df)\n",
    "missing_value = missing_value.reset_index()\n",
    "missing_value.columns = ['variables','missing values in percentage']\n",
    "missing_value = missing_value.sort_values('missing values in percentage',ascending=False)\n",
    "\n",
    "# barplot\n",
    "fig = px.bar(missing_value, y='missing values in percentage',x='variables',title='Missing values % in each column',\n",
    "             template='ggplot2',text='missing values in percentage');\n",
    "fig.update_traces(texttemplate='%{text:.2s}', textposition='inside')\n",
    "fig.update_layout(uniformtext_minsize=8, uniformtext_mode='hide')\n",
    "\n",
    "fig.show()"
   ]
  },
  {
   "cell_type": "markdown",
   "id": "premier-payment",
   "metadata": {
    "papermill": {
     "duration": 0.063418,
     "end_time": "2021-04-09T12:39:24.200848",
     "exception": false,
     "start_time": "2021-04-09T12:39:24.137430",
     "status": "completed"
    },
    "tags": []
   },
   "source": [
    "* <span style=\"font-family: Arial;font-size:1.2em;color:#3366ff\">No missing values found in the dataset but we need to search for empty string and spaces"
   ]
  },
  {
   "cell_type": "markdown",
   "id": "encouraging-criterion",
   "metadata": {
    "papermill": {
     "duration": 0.065522,
     "end_time": "2021-04-09T12:39:24.330367",
     "exception": false,
     "start_time": "2021-04-09T12:39:24.264845",
     "status": "completed"
    },
    "tags": []
   },
   "source": [
    "## <span style=\"font-family: Arial;font-size:1.2em;color:#3366ff\">ii. Data cleaning"
   ]
  },
  {
   "cell_type": "code",
   "execution_count": 14,
   "id": "eleven-madness",
   "metadata": {
    "execution": {
     "iopub.execute_input": "2021-04-09T12:39:24.465837Z",
     "iopub.status.busy": "2021-04-09T12:39:24.465160Z",
     "iopub.status.idle": "2021-04-09T12:39:24.468011Z",
     "shell.execute_reply": "2021-04-09T12:39:24.468467Z"
    },
    "papermill": {
     "duration": 0.072606,
     "end_time": "2021-04-09T12:39:24.468637",
     "exception": false,
     "start_time": "2021-04-09T12:39:24.396031",
     "status": "completed"
    },
    "tags": []
   },
   "outputs": [],
   "source": [
    "# categorical columns\n",
    "\n",
    "cat_columns = ['gender', 'SeniorCitizen', 'Partner', 'Dependents',\n",
    "       'PhoneService', 'MultipleLines', 'InternetService', 'OnlineSecurity',\n",
    "       'OnlineBackup', 'DeviceProtection', 'TechSupport', 'StreamingTV',\n",
    "       'StreamingMovies', 'Contract', 'PaperlessBilling', 'PaymentMethod',\n",
    "       'Churn']"
   ]
  },
  {
   "cell_type": "code",
   "execution_count": 15,
   "id": "contained-fleece",
   "metadata": {
    "execution": {
     "iopub.execute_input": "2021-04-09T12:39:24.601204Z",
     "iopub.status.busy": "2021-04-09T12:39:24.600510Z",
     "iopub.status.idle": "2021-04-09T12:39:24.603931Z",
     "shell.execute_reply": "2021-04-09T12:39:24.604433Z"
    },
    "papermill": {
     "duration": 0.071037,
     "end_time": "2021-04-09T12:39:24.604601",
     "exception": false,
     "start_time": "2021-04-09T12:39:24.533564",
     "status": "completed"
    },
    "tags": []
   },
   "outputs": [],
   "source": [
    "# numerical columns\n",
    "\n",
    "num_columns = ['TotalCharges','MonthlyCharges','tenure']"
   ]
  },
  {
   "cell_type": "code",
   "execution_count": 16,
   "id": "laughing-humanity",
   "metadata": {
    "_kg_hide-output": true,
    "collapsed": true,
    "execution": {
     "iopub.execute_input": "2021-04-09T12:39:24.736331Z",
     "iopub.status.busy": "2021-04-09T12:39:24.735728Z",
     "iopub.status.idle": "2021-04-09T12:39:24.850936Z",
     "shell.execute_reply": "2021-04-09T12:39:24.851867Z"
    },
    "jupyter": {
     "outputs_hidden": true
    },
    "papermill": {
     "duration": 0.183584,
     "end_time": "2021-04-09T12:39:24.852145",
     "exception": false,
     "start_time": "2021-04-09T12:39:24.668561",
     "status": "completed"
    },
    "tags": []
   },
   "outputs": [
    {
     "name": "stdout",
     "output_type": "stream",
     "text": [
      "\n",
      " \n",
      "************* Column name: gender *************\n",
      "1. Unique vlaues: ['Male' 'Female']\n",
      " \n",
      "2. Min values: Female\n",
      " \n",
      "3. value counts: Male      50.952222\n",
      "Female    49.047778\n",
      "Name: gender, dtype: float64\n",
      " \n",
      "**************************************************\n",
      "***************-end-******************************\n",
      "\n",
      " \n",
      "\n",
      " \n",
      "************* Column name: SeniorCitizen *************\n",
      "1. Unique vlaues: [0 1]\n",
      " \n",
      "2. Min values: 0\n",
      " \n",
      "3. value counts: 0    83.862345\n",
      "1    16.137655\n",
      "Name: SeniorCitizen, dtype: float64\n",
      " \n",
      "**************************************************\n",
      "***************-end-******************************\n",
      "\n",
      " \n",
      "\n",
      " \n",
      "************* Column name: Partner *************\n",
      "1. Unique vlaues: ['Yes' 'No']\n",
      " \n",
      "2. Min values: No\n",
      " \n",
      "3. value counts: No     51.486803\n",
      "Yes    48.513197\n",
      "Name: Partner, dtype: float64\n",
      " \n",
      "**************************************************\n",
      "***************-end-******************************\n",
      "\n",
      " \n",
      "\n",
      " \n",
      "************* Column name: Dependents *************\n",
      "1. Unique vlaues: ['Yes' 'No']\n",
      " \n",
      "2. Min values: No\n",
      " \n",
      "3. value counts: No     70.080187\n",
      "Yes    29.919813\n",
      "Name: Dependents, dtype: float64\n",
      " \n",
      "**************************************************\n",
      "***************-end-******************************\n",
      "\n",
      " \n",
      "\n",
      " \n",
      "************* Column name: PhoneService *************\n",
      "1. Unique vlaues: ['Yes' 'No']\n",
      " \n",
      "2. Min values: No\n",
      " \n",
      "3. value counts: Yes    90.143669\n",
      "No      9.856331\n",
      "Name: PhoneService, dtype: float64\n",
      " \n",
      "**************************************************\n",
      "***************-end-******************************\n",
      "\n",
      " \n",
      "\n",
      " \n",
      "************* Column name: MultipleLines *************\n",
      "1. Unique vlaues: ['Yes' 'No' 'No phone service']\n",
      " \n",
      "2. Min values: No\n",
      " \n",
      "3. value counts: No                  47.577681\n",
      "Yes                 42.565987\n",
      "No phone service     9.856331\n",
      "Name: MultipleLines, dtype: float64\n",
      " \n",
      "**************************************************\n",
      "***************-end-******************************\n",
      "\n",
      " \n",
      "\n",
      " \n",
      "************* Column name: InternetService *************\n",
      "1. Unique vlaues: ['No' 'Fiber optic' 'DSL']\n",
      " \n",
      "2. Min values: DSL\n",
      " \n",
      "3. value counts: Fiber optic    43.885733\n",
      "DSL            34.547277\n",
      "No             21.566990\n",
      "Name: InternetService, dtype: float64\n",
      " \n",
      "**************************************************\n",
      "***************-end-******************************\n",
      "\n",
      " \n",
      "\n",
      " \n",
      "************* Column name: OnlineSecurity *************\n",
      "1. Unique vlaues: ['No internet service' 'No' 'Yes']\n",
      " \n",
      "2. Min values: No\n",
      " \n",
      "3. value counts: No                     49.816238\n",
      "Yes                    28.616772\n",
      "No internet service    21.566990\n",
      "Name: OnlineSecurity, dtype: float64\n",
      " \n",
      "**************************************************\n",
      "***************-end-******************************\n",
      "\n",
      " \n",
      "\n",
      " \n",
      "************* Column name: OnlineBackup *************\n",
      "1. Unique vlaues: ['No internet service' 'Yes' 'No']\n",
      " \n",
      "2. Min values: No\n",
      " \n",
      "3. value counts: No                     43.518209\n",
      "Yes                    34.914801\n",
      "No internet service    21.566990\n",
      "Name: OnlineBackup, dtype: float64\n",
      " \n",
      "**************************************************\n",
      "***************-end-******************************\n",
      "\n",
      " \n",
      "\n",
      " \n",
      "************* Column name: DeviceProtection *************\n",
      "1. Unique vlaues: ['No internet service' 'Yes' 'No']\n",
      " \n",
      "2. Min values: No\n",
      " \n",
      "3. value counts: No                     44.102907\n",
      "Yes                    34.330104\n",
      "No internet service    21.566990\n",
      "Name: DeviceProtection, dtype: float64\n",
      " \n",
      "**************************************************\n",
      "***************-end-******************************\n",
      "\n",
      " \n",
      "\n",
      " \n",
      "************* Column name: TechSupport *************\n",
      "1. Unique vlaues: ['No internet service' 'No' 'Yes']\n",
      " \n",
      "2. Min values: No\n",
      " \n",
      "3. value counts: No                     49.448714\n",
      "Yes                    28.984297\n",
      "No internet service    21.566990\n",
      "Name: TechSupport, dtype: float64\n",
      " \n",
      "**************************************************\n",
      "***************-end-******************************\n",
      "\n",
      " \n",
      "\n",
      " \n",
      "************* Column name: StreamingTV *************\n",
      "1. Unique vlaues: ['No internet service' 'Yes' 'No']\n",
      " \n",
      "2. Min values: No\n",
      " \n",
      "3. value counts: No                     39.909790\n",
      "Yes                    38.523221\n",
      "No internet service    21.566990\n",
      "Name: StreamingTV, dtype: float64\n",
      " \n",
      "**************************************************\n",
      "***************-end-******************************\n",
      "\n",
      " \n",
      "\n",
      " \n",
      "************* Column name: StreamingMovies *************\n",
      "1. Unique vlaues: ['No internet service' 'No' 'Yes']\n",
      " \n",
      "2. Min values: No\n",
      " \n",
      "3. value counts: No                     39.358503\n",
      "Yes                    39.074507\n",
      "No internet service    21.566990\n",
      "Name: StreamingMovies, dtype: float64\n",
      " \n",
      "**************************************************\n",
      "***************-end-******************************\n",
      "\n",
      " \n",
      "\n",
      " \n",
      "************* Column name: Contract *************\n",
      "1. Unique vlaues: ['Two year' 'Month-to-month' 'One year']\n",
      " \n",
      "2. Min values: Month-to-month\n",
      " \n",
      "3. value counts: Month-to-month    54.610758\n",
      "Two year          24.072837\n",
      "One year          21.316405\n",
      "Name: Contract, dtype: float64\n",
      " \n",
      "**************************************************\n",
      "***************-end-******************************\n",
      "\n",
      " \n",
      "\n",
      " \n",
      "************* Column name: PaperlessBilling *************\n",
      "1. Unique vlaues: ['No' 'Yes']\n",
      " \n",
      "2. Min values: No\n",
      " \n",
      "3. value counts: Yes    58.937521\n",
      "No     41.062479\n",
      "Name: PaperlessBilling, dtype: float64\n",
      " \n",
      "**************************************************\n",
      "***************-end-******************************\n",
      "\n",
      " \n",
      "\n",
      " \n",
      "************* Column name: PaymentMethod *************\n",
      "1. Unique vlaues: ['Credit card (automatic)' 'Bank transfer (automatic)' 'Electronic check'\n",
      " 'Mailed check']\n",
      " \n",
      "2. Min values: Bank transfer (automatic)\n",
      " \n",
      "3. value counts: Electronic check             33.511527\n",
      "Mailed check                 22.870030\n",
      "Bank transfer (automatic)    21.850986\n",
      "Credit card (automatic)      21.767457\n",
      "Name: PaymentMethod, dtype: float64\n",
      " \n",
      "**************************************************\n",
      "***************-end-******************************\n",
      "\n",
      " \n",
      "\n",
      " \n",
      "************* Column name: Churn *************\n",
      "1. Unique vlaues: ['No' 'Yes']\n",
      " \n",
      "2. Min values: No\n",
      " \n",
      "3. value counts: No     73.488139\n",
      "Yes    26.511861\n",
      "Name: Churn, dtype: float64\n",
      " \n",
      "**************************************************\n",
      "***************-end-******************************\n",
      "\n",
      " \n"
     ]
    }
   ],
   "source": [
    "#\"\"\"\n",
    "\n",
    "for feature in df[cat_columns].columns:\n",
    "    print('\\n ')\n",
    "    print('*************','Column name:',feature,'*************')\n",
    "    print('1. Unique vlaues:',df[feature].unique())\n",
    "    print(' ')\n",
    "    print('2. Min values:',df[feature].min())\n",
    "    print(' ')\n",
    "    print('3. value counts:',df[feature].value_counts(1)*100)\n",
    "    print(' ')\n",
    "    print('**************************************************')\n",
    "    print('***************-end-******************************')\n",
    "    print('\\n ')\n",
    "\n",
    "#\"\"\""
   ]
  },
  {
   "cell_type": "code",
   "execution_count": 17,
   "id": "growing-asbestos",
   "metadata": {
    "execution": {
     "iopub.execute_input": "2021-04-09T12:39:24.998125Z",
     "iopub.status.busy": "2021-04-09T12:39:24.997347Z",
     "iopub.status.idle": "2021-04-09T12:39:25.004940Z",
     "shell.execute_reply": "2021-04-09T12:39:25.006152Z"
    },
    "papermill": {
     "duration": 0.084023,
     "end_time": "2021-04-09T12:39:25.006356",
     "exception": false,
     "start_time": "2021-04-09T12:39:24.922333",
     "status": "completed"
    },
    "tags": []
   },
   "outputs": [
    {
     "name": "stdout",
     "output_type": "stream",
     "text": [
      "******* Column name: TotalCharges *******\n",
      "Min values:  \n",
      "Max values: 999.9\n",
      "***********-end-***********\n",
      "\n",
      "\n",
      "******* Column name: MonthlyCharges *******\n",
      "Min values: 18.25\n",
      "Max values: 118.75\n",
      "***********-end-***********\n",
      "\n",
      "\n",
      "******* Column name: tenure *******\n",
      "Min values: 0\n",
      "Max values: 72\n",
      "***********-end-***********\n",
      "\n",
      "\n"
     ]
    }
   ],
   "source": [
    "# num., columns\n",
    "\n",
    "for feature in df[num_columns].columns:\n",
    "    print('*******','Column name:',feature,'*******')\n",
    "    \n",
    "    print('Min values:',df[feature].min())\n",
    "    print('Max values:',df[feature].max())\n",
    "    \n",
    "    print('***********-end-***********')\n",
    "    print('\\n')"
   ]
  },
  {
   "cell_type": "code",
   "execution_count": 18,
   "id": "impossible-retention",
   "metadata": {
    "execution": {
     "iopub.execute_input": "2021-04-09T12:39:25.145251Z",
     "iopub.status.busy": "2021-04-09T12:39:25.144455Z",
     "iopub.status.idle": "2021-04-09T12:39:25.148279Z",
     "shell.execute_reply": "2021-04-09T12:39:25.147645Z"
    },
    "papermill": {
     "duration": 0.075384,
     "end_time": "2021-04-09T12:39:25.148415",
     "exception": false,
     "start_time": "2021-04-09T12:39:25.073031",
     "status": "completed"
    },
    "tags": []
   },
   "outputs": [
    {
     "data": {
      "text/plain": [
       "' '"
      ]
     },
     "execution_count": 18,
     "metadata": {},
     "output_type": "execute_result"
    }
   ],
   "source": [
    "# we found the empty space or empty string here \n",
    "\n",
    "df['TotalCharges'].min()"
   ]
  },
  {
   "cell_type": "code",
   "execution_count": 19,
   "id": "distributed-caution",
   "metadata": {
    "execution": {
     "iopub.execute_input": "2021-04-09T12:39:25.288102Z",
     "iopub.status.busy": "2021-04-09T12:39:25.287267Z",
     "iopub.status.idle": "2021-04-09T12:39:25.308860Z",
     "shell.execute_reply": "2021-04-09T12:39:25.309399Z"
    },
    "papermill": {
     "duration": 0.095318,
     "end_time": "2021-04-09T12:39:25.309589",
     "exception": false,
     "start_time": "2021-04-09T12:39:25.214271",
     "status": "completed"
    },
    "tags": []
   },
   "outputs": [
    {
     "data": {
      "text/html": [
       "<div>\n",
       "<style scoped>\n",
       "    .dataframe tbody tr th:only-of-type {\n",
       "        vertical-align: middle;\n",
       "    }\n",
       "\n",
       "    .dataframe tbody tr th {\n",
       "        vertical-align: top;\n",
       "    }\n",
       "\n",
       "    .dataframe thead th {\n",
       "        text-align: right;\n",
       "    }\n",
       "</style>\n",
       "<table border=\"1\" class=\"dataframe\">\n",
       "  <thead>\n",
       "    <tr style=\"text-align: right;\">\n",
       "      <th></th>\n",
       "      <th>gender</th>\n",
       "      <th>SeniorCitizen</th>\n",
       "      <th>Partner</th>\n",
       "      <th>Dependents</th>\n",
       "      <th>tenure</th>\n",
       "      <th>PhoneService</th>\n",
       "      <th>MultipleLines</th>\n",
       "      <th>InternetService</th>\n",
       "      <th>OnlineSecurity</th>\n",
       "      <th>OnlineBackup</th>\n",
       "      <th>DeviceProtection</th>\n",
       "      <th>TechSupport</th>\n",
       "      <th>StreamingTV</th>\n",
       "      <th>StreamingMovies</th>\n",
       "      <th>Contract</th>\n",
       "      <th>PaperlessBilling</th>\n",
       "      <th>PaymentMethod</th>\n",
       "      <th>MonthlyCharges</th>\n",
       "      <th>TotalCharges</th>\n",
       "      <th>Churn</th>\n",
       "    </tr>\n",
       "  </thead>\n",
       "  <tbody>\n",
       "    <tr>\n",
       "      <th>356</th>\n",
       "      <td>Male</td>\n",
       "      <td>0</td>\n",
       "      <td>No</td>\n",
       "      <td>Yes</td>\n",
       "      <td>0</td>\n",
       "      <td>Yes</td>\n",
       "      <td>Yes</td>\n",
       "      <td>DSL</td>\n",
       "      <td>Yes</td>\n",
       "      <td>Yes</td>\n",
       "      <td>No</td>\n",
       "      <td>Yes</td>\n",
       "      <td>No</td>\n",
       "      <td>No</td>\n",
       "      <td>Two year</td>\n",
       "      <td>Yes</td>\n",
       "      <td>Bank transfer (automatic)</td>\n",
       "      <td>61.90</td>\n",
       "      <td></td>\n",
       "      <td>No</td>\n",
       "    </tr>\n",
       "    <tr>\n",
       "      <th>634</th>\n",
       "      <td>Female</td>\n",
       "      <td>0</td>\n",
       "      <td>Yes</td>\n",
       "      <td>Yes</td>\n",
       "      <td>0</td>\n",
       "      <td>No</td>\n",
       "      <td>No phone service</td>\n",
       "      <td>DSL</td>\n",
       "      <td>Yes</td>\n",
       "      <td>Yes</td>\n",
       "      <td>Yes</td>\n",
       "      <td>Yes</td>\n",
       "      <td>Yes</td>\n",
       "      <td>No</td>\n",
       "      <td>Two year</td>\n",
       "      <td>No</td>\n",
       "      <td>Credit card (automatic)</td>\n",
       "      <td>56.05</td>\n",
       "      <td></td>\n",
       "      <td>No</td>\n",
       "    </tr>\n",
       "    <tr>\n",
       "      <th>2771</th>\n",
       "      <td>Male</td>\n",
       "      <td>0</td>\n",
       "      <td>Yes</td>\n",
       "      <td>Yes</td>\n",
       "      <td>0</td>\n",
       "      <td>Yes</td>\n",
       "      <td>Yes</td>\n",
       "      <td>No</td>\n",
       "      <td>No internet service</td>\n",
       "      <td>No internet service</td>\n",
       "      <td>No internet service</td>\n",
       "      <td>No internet service</td>\n",
       "      <td>No internet service</td>\n",
       "      <td>No internet service</td>\n",
       "      <td>Two year</td>\n",
       "      <td>No</td>\n",
       "      <td>Mailed check</td>\n",
       "      <td>25.35</td>\n",
       "      <td></td>\n",
       "      <td>No</td>\n",
       "    </tr>\n",
       "  </tbody>\n",
       "</table>\n",
       "</div>"
      ],
      "text/plain": [
       "      gender  SeniorCitizen Partner Dependents  tenure PhoneService  \\\n",
       "356     Male              0      No        Yes       0          Yes   \n",
       "634   Female              0     Yes        Yes       0           No   \n",
       "2771    Male              0     Yes        Yes       0          Yes   \n",
       "\n",
       "         MultipleLines InternetService       OnlineSecurity  \\\n",
       "356                Yes             DSL                  Yes   \n",
       "634   No phone service             DSL                  Yes   \n",
       "2771               Yes              No  No internet service   \n",
       "\n",
       "             OnlineBackup     DeviceProtection          TechSupport  \\\n",
       "356                   Yes                   No                  Yes   \n",
       "634                   Yes                  Yes                  Yes   \n",
       "2771  No internet service  No internet service  No internet service   \n",
       "\n",
       "              StreamingTV      StreamingMovies  Contract PaperlessBilling  \\\n",
       "356                    No                   No  Two year              Yes   \n",
       "634                   Yes                   No  Two year               No   \n",
       "2771  No internet service  No internet service  Two year               No   \n",
       "\n",
       "                  PaymentMethod  MonthlyCharges TotalCharges Churn  \n",
       "356   Bank transfer (automatic)           61.90                 No  \n",
       "634     Credit card (automatic)           56.05                 No  \n",
       "2771               Mailed check           25.35                 No  "
      ]
     },
     "execution_count": 19,
     "metadata": {},
     "output_type": "execute_result"
    }
   ],
   "source": [
    "# empty space rows in Totalcharges \n",
    "\n",
    "df[df['TotalCharges'] == df['TotalCharges'].min()][0:3]"
   ]
  },
  {
   "cell_type": "code",
   "execution_count": 20,
   "id": "mechanical-annual",
   "metadata": {
    "execution": {
     "iopub.execute_input": "2021-04-09T12:39:25.448252Z",
     "iopub.status.busy": "2021-04-09T12:39:25.447596Z",
     "iopub.status.idle": "2021-04-09T12:39:25.455413Z",
     "shell.execute_reply": "2021-04-09T12:39:25.454888Z"
    },
    "papermill": {
     "duration": 0.077695,
     "end_time": "2021-04-09T12:39:25.455557",
     "exception": false,
     "start_time": "2021-04-09T12:39:25.377862",
     "status": "completed"
    },
    "tags": []
   },
   "outputs": [],
   "source": [
    "# replace empty space with median\n",
    "\n",
    "df['TotalCharges'] =  df['TotalCharges'].replace(' ',2298.06)# replace empty string with median of total charges"
   ]
  },
  {
   "cell_type": "code",
   "execution_count": 21,
   "id": "english-veteran",
   "metadata": {
    "execution": {
     "iopub.execute_input": "2021-04-09T12:39:25.596620Z",
     "iopub.status.busy": "2021-04-09T12:39:25.595998Z",
     "iopub.status.idle": "2021-04-09T12:39:25.599043Z",
     "shell.execute_reply": "2021-04-09T12:39:25.598505Z"
    },
    "papermill": {
     "duration": 0.076503,
     "end_time": "2021-04-09T12:39:25.599186",
     "exception": false,
     "start_time": "2021-04-09T12:39:25.522683",
     "status": "completed"
    },
    "tags": []
   },
   "outputs": [],
   "source": [
    "# change data type to float\n",
    "\n",
    "df['TotalCharges'] =  df['TotalCharges'].astype(float)"
   ]
  },
  {
   "cell_type": "code",
   "execution_count": 22,
   "id": "marked-identification",
   "metadata": {
    "execution": {
     "iopub.execute_input": "2021-04-09T12:39:25.737893Z",
     "iopub.status.busy": "2021-04-09T12:39:25.737173Z",
     "iopub.status.idle": "2021-04-09T12:39:25.759758Z",
     "shell.execute_reply": "2021-04-09T12:39:25.759205Z"
    },
    "papermill": {
     "duration": 0.09421,
     "end_time": "2021-04-09T12:39:25.759912",
     "exception": false,
     "start_time": "2021-04-09T12:39:25.665702",
     "status": "completed"
    },
    "tags": []
   },
   "outputs": [
    {
     "data": {
      "text/html": [
       "<div>\n",
       "<style scoped>\n",
       "    .dataframe tbody tr th:only-of-type {\n",
       "        vertical-align: middle;\n",
       "    }\n",
       "\n",
       "    .dataframe tbody tr th {\n",
       "        vertical-align: top;\n",
       "    }\n",
       "\n",
       "    .dataframe thead th {\n",
       "        text-align: right;\n",
       "    }\n",
       "</style>\n",
       "<table border=\"1\" class=\"dataframe\">\n",
       "  <thead>\n",
       "    <tr style=\"text-align: right;\">\n",
       "      <th></th>\n",
       "      <th>gender</th>\n",
       "      <th>SeniorCitizen</th>\n",
       "      <th>Partner</th>\n",
       "      <th>Dependents</th>\n",
       "      <th>tenure</th>\n",
       "      <th>PhoneService</th>\n",
       "      <th>MultipleLines</th>\n",
       "      <th>InternetService</th>\n",
       "      <th>OnlineSecurity</th>\n",
       "      <th>OnlineBackup</th>\n",
       "      <th>DeviceProtection</th>\n",
       "      <th>TechSupport</th>\n",
       "      <th>StreamingTV</th>\n",
       "      <th>StreamingMovies</th>\n",
       "      <th>Contract</th>\n",
       "      <th>PaperlessBilling</th>\n",
       "      <th>PaymentMethod</th>\n",
       "      <th>MonthlyCharges</th>\n",
       "      <th>TotalCharges</th>\n",
       "      <th>Churn</th>\n",
       "    </tr>\n",
       "  </thead>\n",
       "  <tbody>\n",
       "    <tr>\n",
       "      <th>356</th>\n",
       "      <td>Male</td>\n",
       "      <td>0</td>\n",
       "      <td>No</td>\n",
       "      <td>Yes</td>\n",
       "      <td>0</td>\n",
       "      <td>Yes</td>\n",
       "      <td>Yes</td>\n",
       "      <td>DSL</td>\n",
       "      <td>Yes</td>\n",
       "      <td>Yes</td>\n",
       "      <td>No</td>\n",
       "      <td>Yes</td>\n",
       "      <td>No</td>\n",
       "      <td>No</td>\n",
       "      <td>Two year</td>\n",
       "      <td>Yes</td>\n",
       "      <td>Bank transfer (automatic)</td>\n",
       "      <td>61.90</td>\n",
       "      <td>2298.06</td>\n",
       "      <td>No</td>\n",
       "    </tr>\n",
       "    <tr>\n",
       "      <th>634</th>\n",
       "      <td>Female</td>\n",
       "      <td>0</td>\n",
       "      <td>Yes</td>\n",
       "      <td>Yes</td>\n",
       "      <td>0</td>\n",
       "      <td>No</td>\n",
       "      <td>No phone service</td>\n",
       "      <td>DSL</td>\n",
       "      <td>Yes</td>\n",
       "      <td>Yes</td>\n",
       "      <td>Yes</td>\n",
       "      <td>Yes</td>\n",
       "      <td>Yes</td>\n",
       "      <td>No</td>\n",
       "      <td>Two year</td>\n",
       "      <td>No</td>\n",
       "      <td>Credit card (automatic)</td>\n",
       "      <td>56.05</td>\n",
       "      <td>2298.06</td>\n",
       "      <td>No</td>\n",
       "    </tr>\n",
       "    <tr>\n",
       "      <th>2771</th>\n",
       "      <td>Male</td>\n",
       "      <td>0</td>\n",
       "      <td>Yes</td>\n",
       "      <td>Yes</td>\n",
       "      <td>0</td>\n",
       "      <td>Yes</td>\n",
       "      <td>Yes</td>\n",
       "      <td>No</td>\n",
       "      <td>No internet service</td>\n",
       "      <td>No internet service</td>\n",
       "      <td>No internet service</td>\n",
       "      <td>No internet service</td>\n",
       "      <td>No internet service</td>\n",
       "      <td>No internet service</td>\n",
       "      <td>Two year</td>\n",
       "      <td>No</td>\n",
       "      <td>Mailed check</td>\n",
       "      <td>25.35</td>\n",
       "      <td>2298.06</td>\n",
       "      <td>No</td>\n",
       "    </tr>\n",
       "  </tbody>\n",
       "</table>\n",
       "</div>"
      ],
      "text/plain": [
       "      gender  SeniorCitizen Partner Dependents  tenure PhoneService  \\\n",
       "356     Male              0      No        Yes       0          Yes   \n",
       "634   Female              0     Yes        Yes       0           No   \n",
       "2771    Male              0     Yes        Yes       0          Yes   \n",
       "\n",
       "         MultipleLines InternetService       OnlineSecurity  \\\n",
       "356                Yes             DSL                  Yes   \n",
       "634   No phone service             DSL                  Yes   \n",
       "2771               Yes              No  No internet service   \n",
       "\n",
       "             OnlineBackup     DeviceProtection          TechSupport  \\\n",
       "356                   Yes                   No                  Yes   \n",
       "634                   Yes                  Yes                  Yes   \n",
       "2771  No internet service  No internet service  No internet service   \n",
       "\n",
       "              StreamingTV      StreamingMovies  Contract PaperlessBilling  \\\n",
       "356                    No                   No  Two year              Yes   \n",
       "634                   Yes                   No  Two year               No   \n",
       "2771  No internet service  No internet service  Two year               No   \n",
       "\n",
       "                  PaymentMethod  MonthlyCharges  TotalCharges Churn  \n",
       "356   Bank transfer (automatic)           61.90       2298.06    No  \n",
       "634     Credit card (automatic)           56.05       2298.06    No  \n",
       "2771               Mailed check           25.35       2298.06    No  "
      ]
     },
     "execution_count": 22,
     "metadata": {},
     "output_type": "execute_result"
    }
   ],
   "source": [
    "df[df['tenure']==0][0:3]"
   ]
  },
  {
   "cell_type": "code",
   "execution_count": 23,
   "id": "viral-bonus",
   "metadata": {
    "execution": {
     "iopub.execute_input": "2021-04-09T12:39:25.899177Z",
     "iopub.status.busy": "2021-04-09T12:39:25.898525Z",
     "iopub.status.idle": "2021-04-09T12:39:25.902638Z",
     "shell.execute_reply": "2021-04-09T12:39:25.903136Z"
    },
    "papermill": {
     "duration": 0.074943,
     "end_time": "2021-04-09T12:39:25.903350",
     "exception": false,
     "start_time": "2021-04-09T12:39:25.828407",
     "status": "completed"
    },
    "tags": []
   },
   "outputs": [],
   "source": [
    "# replacing zero with median\n",
    "df['tenure'] =  df['tenure'].replace(0,29)"
   ]
  },
  {
   "cell_type": "markdown",
   "id": "increasing-brisbane",
   "metadata": {
    "papermill": {
     "duration": 0.067142,
     "end_time": "2021-04-09T12:39:26.039542",
     "exception": false,
     "start_time": "2021-04-09T12:39:25.972400",
     "status": "completed"
    },
    "tags": []
   },
   "source": [
    "## <span style=\"font-family: Arial;font-size:1.2em;color:#3366ff\">iii. Correlation"
   ]
  },
  {
   "cell_type": "code",
   "execution_count": 24,
   "id": "previous-duplicate",
   "metadata": {
    "_kg_hide-input": true,
    "execution": {
     "iopub.execute_input": "2021-04-09T12:39:26.179073Z",
     "iopub.status.busy": "2021-04-09T12:39:26.178467Z",
     "iopub.status.idle": "2021-04-09T12:39:26.417645Z",
     "shell.execute_reply": "2021-04-09T12:39:26.418575Z"
    },
    "papermill": {
     "duration": 0.311532,
     "end_time": "2021-04-09T12:39:26.418877",
     "exception": false,
     "start_time": "2021-04-09T12:39:26.107345",
     "status": "completed"
    },
    "tags": []
   },
   "outputs": [
    {
     "data": {
      "image/png": "[encoded data removed]",
      "text/plain": [
       "<Figure size 576x288 with 2 Axes>"
      ]
     },
     "metadata": {},
     "output_type": "display_data"
    }
   ],
   "source": [
    "# plot\n",
    "plt.figure(figsize=(8,4))\n",
    "sns.set_context(context='notebook',font_scale=1.2)\n",
    "sns.heatmap(df[['TotalCharges','MonthlyCharges']].corr('pearson'),annot=True,cmap='Blues');\n",
    "plt.title('Pearson correlation');\n",
    "plt.tight_layout();"
   ]
  },
  {
   "cell_type": "markdown",
   "id": "wound-particle",
   "metadata": {
    "papermill": {
     "duration": 0.068782,
     "end_time": "2021-04-09T12:39:26.565879",
     "exception": false,
     "start_time": "2021-04-09T12:39:26.497097",
     "status": "completed"
    },
    "tags": []
   },
   "source": [
    "* <span style=\"font-family: Arial;font-size:1.1em;color:#3366ff\">Monthly charges slightly positively correlated with total charges"
   ]
  },
  {
   "cell_type": "markdown",
   "id": "immediate-administrator",
   "metadata": {
    "papermill": {
     "duration": 0.068871,
     "end_time": "2021-04-09T12:39:26.703467",
     "exception": false,
     "start_time": "2021-04-09T12:39:26.634596",
     "status": "completed"
    },
    "tags": []
   },
   "source": [
    "## <span style=\"font-family: Arial;font-size:1.2em;color:#3366ff\">ii. Data encoding"
   ]
  },
  {
   "cell_type": "code",
   "execution_count": 25,
   "id": "identical-saskatchewan",
   "metadata": {
    "execution": {
     "iopub.execute_input": "2021-04-09T12:39:26.846897Z",
     "iopub.status.busy": "2021-04-09T12:39:26.846217Z",
     "iopub.status.idle": "2021-04-09T12:39:26.876603Z",
     "shell.execute_reply": "2021-04-09T12:39:26.877147Z"
    },
    "papermill": {
     "duration": 0.103157,
     "end_time": "2021-04-09T12:39:26.877354",
     "exception": false,
     "start_time": "2021-04-09T12:39:26.774197",
     "status": "completed"
    },
    "tags": []
   },
   "outputs": [],
   "source": [
    "# convert categorical to numerical\n",
    "for features in df[cat_columns].columns:\n",
    "    df[features] = pd.Categorical(df[features]).codes "
   ]
  },
  {
   "cell_type": "markdown",
   "id": "private-transcription",
   "metadata": {
    "papermill": {
     "duration": 0.06912,
     "end_time": "2021-04-09T12:39:27.016176",
     "exception": false,
     "start_time": "2021-04-09T12:39:26.947056",
     "status": "completed"
    },
    "tags": []
   },
   "source": [
    "## <span style=\"font-family: Arial;font-size:1.2em;color:#3366ff\">iv. Outliers"
   ]
  },
  {
   "cell_type": "code",
   "execution_count": 26,
   "id": "compressed-mission",
   "metadata": {
    "execution": {
     "iopub.execute_input": "2021-04-09T12:39:27.159157Z",
     "iopub.status.busy": "2021-04-09T12:39:27.158533Z",
     "iopub.status.idle": "2021-04-09T12:39:27.890623Z",
     "shell.execute_reply": "2021-04-09T12:39:27.891158Z"
    },
    "papermill": {
     "duration": 0.804927,
     "end_time": "2021-04-09T12:39:27.891327",
     "exception": false,
     "start_time": "2021-04-09T12:39:27.086400",
     "status": "completed"
    },
    "tags": []
   },
   "outputs": [
    {
     "data": {
      "image/png": "[encoded data removed]",
      "text/plain": [
       "<Figure size 864x288 with 1 Axes>"
      ]
     },
     "metadata": {},
     "output_type": "display_data"
    }
   ],
   "source": [
    "# plot outliers\n",
    "plt.style.use('fivethirtyeight')\n",
    "df.plot(kind='box',figsize=(12,4))\n",
    "plt.xticks(rotation=70);\n",
    "plt.title('Outliers check');"
   ]
  },
  {
   "cell_type": "code",
   "execution_count": 27,
   "id": "impaired-inventory",
   "metadata": {
    "_kg_hide-input": true,
    "execution": {
     "iopub.execute_input": "2021-04-09T12:39:28.044090Z",
     "iopub.status.busy": "2021-04-09T12:39:28.043376Z",
     "iopub.status.idle": "2021-04-09T12:39:28.046479Z",
     "shell.execute_reply": "2021-04-09T12:39:28.045987Z"
    },
    "jupyter": {
     "source_hidden": true
    },
    "papermill": {
     "duration": 0.081336,
     "end_time": "2021-04-09T12:39:28.046616",
     "exception": false,
     "start_time": "2021-04-09T12:39:27.965280",
     "status": "completed"
    },
    "tags": []
   },
   "outputs": [],
   "source": [
    "#\"\"\"\n",
    "def treat_outlier(x):\n",
    "    sorted(x)\n",
    "    q1,q3=np.percentile(x,[25,75])\n",
    "    iqr=q3-q1\n",
    "    l_r=q1-(1.5*iqr)\n",
    "    u_r=q3+(1.5*iqr)\n",
    "    return l_r,u_r  \n",
    "#\""
   ]
  },
  {
   "cell_type": "code",
   "execution_count": 28,
   "id": "superb-reader",
   "metadata": {
    "_kg_hide-input": true,
    "execution": {
     "iopub.execute_input": "2021-04-09T12:39:28.198146Z",
     "iopub.status.busy": "2021-04-09T12:39:28.197461Z",
     "iopub.status.idle": "2021-04-09T12:39:28.211965Z",
     "shell.execute_reply": "2021-04-09T12:39:28.212484Z"
    },
    "jupyter": {
     "source_hidden": true
    },
    "papermill": {
     "duration": 0.093348,
     "end_time": "2021-04-09T12:39:28.212654",
     "exception": false,
     "start_time": "2021-04-09T12:39:28.119306",
     "status": "completed"
    },
    "tags": []
   },
   "outputs": [],
   "source": [
    "#\"\"\"\n",
    "\n",
    "for i in df[num_columns].columns:\n",
    "    lr,ur = treat_outlier(df[i])\n",
    "    df[i] = np.where(df[i]>ur,ur,df[i])\n",
    "    df[i] = np.where(df[i]<lr,lr,df[i])\n",
    "#\"\"\""
   ]
  },
  {
   "cell_type": "markdown",
   "id": "metric-salad",
   "metadata": {
    "papermill": {
     "duration": 0.073043,
     "end_time": "2021-04-09T12:39:28.357484",
     "exception": false,
     "start_time": "2021-04-09T12:39:28.284441",
     "status": "completed"
    },
    "tags": []
   },
   "source": [
    "## <span style=\"font-family: Arial;font-size:1.2em;color:#3366ff\">v. data split"
   ]
  },
  {
   "cell_type": "code",
   "execution_count": 29,
   "id": "behavioral-bachelor",
   "metadata": {
    "execution": {
     "iopub.execute_input": "2021-04-09T12:39:28.509085Z",
     "iopub.status.busy": "2021-04-09T12:39:28.507028Z",
     "iopub.status.idle": "2021-04-09T12:39:28.512880Z",
     "shell.execute_reply": "2021-04-09T12:39:28.512214Z"
    },
    "papermill": {
     "duration": 0.083395,
     "end_time": "2021-04-09T12:39:28.513023",
     "exception": false,
     "start_time": "2021-04-09T12:39:28.429628",
     "status": "completed"
    },
    "tags": []
   },
   "outputs": [],
   "source": [
    "X= df.drop('Churn',axis=1)\n",
    "y= df.pop('Churn')"
   ]
  },
  {
   "cell_type": "code",
   "execution_count": 30,
   "id": "viral-cameroon",
   "metadata": {
    "execution": {
     "iopub.execute_input": "2021-04-09T12:39:28.666705Z",
     "iopub.status.busy": "2021-04-09T12:39:28.665795Z",
     "iopub.status.idle": "2021-04-09T12:39:28.670268Z",
     "shell.execute_reply": "2021-04-09T12:39:28.670855Z"
    },
    "papermill": {
     "duration": 0.085931,
     "end_time": "2021-04-09T12:39:28.671056",
     "exception": false,
     "start_time": "2021-04-09T12:39:28.585125",
     "status": "completed"
    },
    "tags": []
   },
   "outputs": [],
   "source": [
    "from sklearn.model_selection import train_test_split\n",
    "\n",
    "X_train, X_test,y_train,y_test = train_test_split(X,y,test_size=30,random_state =1)"
   ]
  },
  {
   "cell_type": "markdown",
   "id": "proud-philippines",
   "metadata": {
    "papermill": {
     "duration": 0.072149,
     "end_time": "2021-04-09T12:39:28.815951",
     "exception": false,
     "start_time": "2021-04-09T12:39:28.743802",
     "status": "completed"
    },
    "tags": []
   },
   "source": [
    "## <span style=\"font-family: Arial;font-size:1.2em;color:#3366ff\">vi. Scaling"
   ]
  },
  {
   "cell_type": "code",
   "execution_count": 31,
   "id": "historic-mistress",
   "metadata": {
    "execution": {
     "iopub.execute_input": "2021-04-09T12:39:28.970707Z",
     "iopub.status.busy": "2021-04-09T12:39:28.969922Z",
     "iopub.status.idle": "2021-04-09T12:39:28.980907Z",
     "shell.execute_reply": "2021-04-09T12:39:28.980272Z"
    },
    "papermill": {
     "duration": 0.091875,
     "end_time": "2021-04-09T12:39:28.981046",
     "exception": false,
     "start_time": "2021-04-09T12:39:28.889171",
     "status": "completed"
    },
    "tags": []
   },
   "outputs": [],
   "source": [
    "## Scaling data\n",
    "\n",
    "sc = StandardScaler()\n",
    "\n",
    "X_train = sc.fit_transform(X_train)\n",
    "X_test = sc.transform(X_test)"
   ]
  },
  {
   "cell_type": "markdown",
   "id": "martial-mailing",
   "metadata": {
    "papermill": {
     "duration": 0.072471,
     "end_time": "2021-04-09T12:39:29.126184",
     "exception": false,
     "start_time": "2021-04-09T12:39:29.053713",
     "status": "completed"
    },
    "tags": []
   },
   "source": [
    "## <span style=\"font-family: Arial;font-size:1.2em;color:#3366ff\">Vii. Oversampling"
   ]
  },
  {
   "cell_type": "code",
   "execution_count": 32,
   "id": "suspected-cemetery",
   "metadata": {
    "execution": {
     "iopub.execute_input": "2021-04-09T12:39:29.279043Z",
     "iopub.status.busy": "2021-04-09T12:39:29.278348Z",
     "iopub.status.idle": "2021-04-09T12:39:29.385028Z",
     "shell.execute_reply": "2021-04-09T12:39:29.385931Z"
    },
    "papermill": {
     "duration": 0.185732,
     "end_time": "2021-04-09T12:39:29.386211",
     "exception": false,
     "start_time": "2021-04-09T12:39:29.200479",
     "status": "completed"
    },
    "tags": []
   },
   "outputs": [],
   "source": [
    "## SMOTE oversampling\n",
    "\n",
    "SMOTE_oversample = SMOTE(random_state=1)\n",
    "X_train,y_train = SMOTE_oversample.fit_resample(X_train, y_train.ravel())"
   ]
  },
  {
   "cell_type": "markdown",
   "id": "young-female",
   "metadata": {
    "papermill": {
     "duration": 0.073584,
     "end_time": "2021-04-09T12:39:29.550351",
     "exception": false,
     "start_time": "2021-04-09T12:39:29.476767",
     "status": "completed"
    },
    "tags": []
   },
   "source": [
    "<div style=\"color:white;\n",
    "           display:fill;\n",
    "           border-radius:50px;\n",
    "           background-color:#E8B60B;\n",
    "           font-size:300%;\n",
    "           font-family:Arial;\n",
    "           letter-spacing:0.10px\">\n",
    "<p style=\"padding: 10px;\n",
    "          color:black;\n",
    "          text-align:center;\">Modeling\n",
    "</p>\n",
    "</div>"
   ]
  },
  {
   "cell_type": "markdown",
   "id": "short-penguin",
   "metadata": {
    "papermill": {
     "duration": 0.072485,
     "end_time": "2021-04-09T12:39:29.695897",
     "exception": false,
     "start_time": "2021-04-09T12:39:29.623412",
     "status": "completed"
    },
    "tags": []
   },
   "source": [
    "# Modeling"
   ]
  },
  {
   "cell_type": "markdown",
   "id": "utility-smart",
   "metadata": {
    "papermill": {
     "duration": 0.071792,
     "end_time": "2021-04-09T12:39:29.840222",
     "exception": false,
     "start_time": "2021-04-09T12:39:29.768430",
     "status": "completed"
    },
    "tags": []
   },
   "source": [
    "### for modeling we are going use \n",
    "* basic model\n",
    "    * <span style=\"font-family: Arial;font-size:1.1em;color:#3366ff\">Decision Tree\n",
    "* bagging\n",
    "    * <span style=\"font-family: Arial;font-size:1.1em;color:#3366ff\">Random forest\n",
    "* boosting\n",
    "    * <span style=\"font-family: Arial;font-size:1.1em;color:#3366ff\">XGboost\n"
   ]
  },
  {
   "cell_type": "markdown",
   "id": "smaller-saturday",
   "metadata": {
    "papermill": {
     "duration": 0.071973,
     "end_time": "2021-04-09T12:39:29.984540",
     "exception": false,
     "start_time": "2021-04-09T12:39:29.912567",
     "status": "completed"
    },
    "tags": []
   },
   "source": [
    "## i. Basic model\n",
    "   * <span style=\"font-family: Arial;font-size:1.2em;color:#3366ff\">Decision Tree"
   ]
  },
  {
   "cell_type": "code",
   "execution_count": 33,
   "id": "expanded-monitoring",
   "metadata": {
    "execution": {
     "iopub.execute_input": "2021-04-09T12:39:30.139937Z",
     "iopub.status.busy": "2021-04-09T12:39:30.139175Z",
     "iopub.status.idle": "2021-04-09T12:39:30.363445Z",
     "shell.execute_reply": "2021-04-09T12:39:30.362904Z"
    },
    "papermill": {
     "duration": 0.306746,
     "end_time": "2021-04-09T12:39:30.363596",
     "exception": false,
     "start_time": "2021-04-09T12:39:30.056850",
     "status": "completed"
    },
    "tags": []
   },
   "outputs": [
    {
     "name": "stdout",
     "output_type": "stream",
     "text": [
      "Accuracy on Train set 0.7997716894977169\n",
      "Accuracy on Test set 0.7\n",
      "F1-score on Test set: 0.5714285714285713\n",
      "\n",
      "\n",
      "              precision    recall  f1-score   support\n",
      "\n",
      "           0       0.75      0.79      0.77        19\n",
      "           1       0.60      0.55      0.57        11\n",
      "\n",
      "    accuracy                           0.70        30\n",
      "   macro avg       0.68      0.67      0.67        30\n",
      "weighted avg       0.70      0.70      0.70        30\n",
      "\n",
      "\n",
      "\n"
     ]
    },
    {
     "data": {
      "image/png": "[encoded data removed]",
      "text/plain": [
       "<Figure size 432x288 with 2 Axes>"
      ]
     },
     "metadata": {},
     "output_type": "display_data"
    }
   ],
   "source": [
    "from sklearn.tree import DecisionTreeClassifier\n",
    "\n",
    "DT_model= DecisionTreeClassifier(max_features= 5,max_depth= 10,min_samples_split= 90,min_samples_leaf= 30,random_state=1)\n",
    "\n",
    "# fit the model\n",
    "DT_model.fit(X_train,y_train)\n",
    "\n",
    "# model score\n",
    "predict_train_DT = DT_model.predict(X_train)\n",
    "predict_test_DT = DT_model.predict(X_test)\n",
    "\n",
    "# accuracy score\n",
    "DT_train_score = DT_model.score(X_train,y_train)\n",
    "DT_test_score = DT_model.score(X_test,y_test)\n",
    "\n",
    "# f1-score\n",
    "DT_f1_score = metrics.f1_score(y_test, predict_test_DT)\n",
    "\n",
    "print('Accuracy on Train set',DT_train_score)\n",
    "print('Accuracy on Test set',DT_test_score)\n",
    "print('F1-score on Test set:',DT_f1_score)\n",
    "print('\\n')\n",
    "print(metrics.classification_report(y_test, predict_test_DT))\n",
    "print('\\n')\n",
    "\n",
    "# confusion matrix\n",
    "metrics.plot_confusion_matrix(DT_model,X_test,y_test,cmap='Blues');\n",
    "plt.grid(False)\n",
    "plt.title('Confusion Matrix on test set');"
   ]
  },
  {
   "cell_type": "markdown",
   "id": "shared-gateway",
   "metadata": {
    "papermill": {
     "duration": 0.073676,
     "end_time": "2021-04-09T12:39:30.511322",
     "exception": false,
     "start_time": "2021-04-09T12:39:30.437646",
     "status": "completed"
    },
    "tags": []
   },
   "source": [
    "## ii. bagging\n",
    "   * <span style=\"font-family: Arial;font-size:1.2em;color:#3366ff\">Random Forest"
   ]
  },
  {
   "cell_type": "code",
   "execution_count": 34,
   "id": "modern-titanium",
   "metadata": {
    "execution": {
     "iopub.execute_input": "2021-04-09T12:39:30.667266Z",
     "iopub.status.busy": "2021-04-09T12:39:30.666534Z",
     "iopub.status.idle": "2021-04-09T12:39:37.532156Z",
     "shell.execute_reply": "2021-04-09T12:39:37.531626Z"
    },
    "papermill": {
     "duration": 6.947313,
     "end_time": "2021-04-09T12:39:37.532304",
     "exception": false,
     "start_time": "2021-04-09T12:39:30.584991",
     "status": "completed"
    },
    "tags": []
   },
   "outputs": [
    {
     "name": "stdout",
     "output_type": "stream",
     "text": [
      "Accuracy on Train set 0.8312785388127854\n",
      "Accuracy on Test set 0.7\n",
      "F1-score on Test set: 0.5714285714285713\n",
      "\n",
      "\n",
      "              precision    recall  f1-score   support\n",
      "\n",
      "           0       0.75      0.79      0.77        19\n",
      "           1       0.60      0.55      0.57        11\n",
      "\n",
      "    accuracy                           0.70        30\n",
      "   macro avg       0.68      0.67      0.67        30\n",
      "weighted avg       0.70      0.70      0.70        30\n",
      "\n",
      "\n",
      "\n"
     ]
    },
    {
     "data": {
      "image/png": "[encoded data removed]",
      "text/plain": [
       "<Figure size 432x288 with 2 Axes>"
      ]
     },
     "metadata": {},
     "output_type": "display_data"
    }
   ],
   "source": [
    "# Random forest\n",
    "from sklearn.ensemble import RandomForestClassifier\n",
    "\n",
    "# create object model\n",
    "RF_model = RandomForestClassifier(n_estimators= 600,min_samples_split= 90,min_samples_leaf= 20,\n",
    "                                  max_features= 5,max_depth= 10)# RF model tuned\n",
    "\n",
    "# fit the model\n",
    "RF_model.fit(X_train,y_train)\n",
    "\n",
    "# model score\n",
    "predict_train_RF = RF_model.predict(X_train)\n",
    "predict_test_RF = RF_model.predict(X_test)\n",
    "\n",
    "# accuracy score\n",
    "RF_train_score = RF_model.score(X_train,y_train)\n",
    "RF_test_score = RF_model.score(X_test,y_test)\n",
    "\n",
    "# f1-score\n",
    "RF_f1_score = metrics.f1_score(y_test,predict_test_RF)\n",
    "\n",
    "print('Accuracy on Train set',RF_train_score)\n",
    "print('Accuracy on Test set',RF_test_score)\n",
    "print('F1-score on Test set:',RF_f1_score)\n",
    "print('\\n')\n",
    "print(metrics.classification_report(y_test,predict_test_RF))\n",
    "print('\\n')\n",
    "\n",
    "# confusion matrix\n",
    "metrics.plot_confusion_matrix(RF_model,X_test,y_test,cmap='Blues');\n",
    "plt.grid(False)\n",
    "plt.title('Confusion Matrix on test set');"
   ]
  },
  {
   "cell_type": "markdown",
   "id": "dressed-bronze",
   "metadata": {
    "papermill": {
     "duration": 0.074796,
     "end_time": "2021-04-09T12:39:37.682525",
     "exception": false,
     "start_time": "2021-04-09T12:39:37.607729",
     "status": "completed"
    },
    "tags": []
   },
   "source": [
    "## iii. Boosting\n",
    " * <span style=\"font-family: Arial;font-size:1.2em;color:#3366ff\">Xgboost "
   ]
  },
  {
   "cell_type": "code",
   "execution_count": 35,
   "id": "operating-forwarding",
   "metadata": {
    "execution": {
     "iopub.execute_input": "2021-04-09T12:39:37.845285Z",
     "iopub.status.busy": "2021-04-09T12:39:37.844185Z",
     "iopub.status.idle": "2021-04-09T12:39:38.910084Z",
     "shell.execute_reply": "2021-04-09T12:39:38.909434Z"
    },
    "papermill": {
     "duration": 1.15303,
     "end_time": "2021-04-09T12:39:38.910222",
     "exception": false,
     "start_time": "2021-04-09T12:39:37.757192",
     "status": "completed"
    },
    "tags": []
   },
   "outputs": [
    {
     "name": "stdout",
     "output_type": "stream",
     "text": [
      "Accuracy on Train set 0.8337899543378996\n",
      "Accuracy on Test set 0.7333333333333333\n",
      "F1-score on Test set: 0.6363636363636364\n",
      "\n",
      "\n",
      "              precision    recall  f1-score   support\n",
      "\n",
      "           0       0.79      0.79      0.79        19\n",
      "           1       0.64      0.64      0.64        11\n",
      "\n",
      "    accuracy                           0.73        30\n",
      "   macro avg       0.71      0.71      0.71        30\n",
      "weighted avg       0.73      0.73      0.73        30\n",
      "\n",
      "\n",
      "\n"
     ]
    },
    {
     "data": {
      "image/png": "[encoded data removed]",
      "text/plain": [
       "<Figure size 432x288 with 2 Axes>"
      ]
     },
     "metadata": {},
     "output_type": "display_data"
    }
   ],
   "source": [
    "# Xgboost\n",
    "import xgboost as xgb\n",
    "\n",
    "# create object model\n",
    "Xgboost_model = xgb.XGBClassifier(learning_rate=0.01,verbosity=0)\n",
    "\n",
    "# fit the model\n",
    "Xgboost_model.fit(X_train,y_train)\n",
    "\n",
    "# model score\n",
    "predict_train_Xgb = Xgboost_model.predict(X_train)\n",
    "predict_test_Xgb = Xgboost_model.predict(X_test)\n",
    "\n",
    "# accuracy score\n",
    "Xgb_train_score = Xgboost_model.score(X_train,y_train)\n",
    "Xgb_test_score = Xgboost_model.score(X_test,y_test)\n",
    "\n",
    "# f1-score\n",
    "Xgb_f1_score = metrics.f1_score(y_test,predict_test_Xgb)\n",
    "\n",
    "print('Accuracy on Train set',Xgb_train_score)\n",
    "print('Accuracy on Test set',Xgb_test_score)\n",
    "print('F1-score on Test set:',Xgb_f1_score)\n",
    "print('\\n')\n",
    "print(metrics.classification_report(y_test,predict_test_Xgb))\n",
    "print('\\n')\n",
    "\n",
    "# confusion matrix\n",
    "metrics.plot_confusion_matrix(Xgboost_model,X_test,y_test,cmap='Blues');\n",
    "plt.grid(False)\n",
    "plt.title('Confusion Matrix on test set');"
   ]
  },
  {
   "cell_type": "markdown",
   "id": "patient-tobago",
   "metadata": {
    "papermill": {
     "duration": 0.076414,
     "end_time": "2021-04-09T12:39:39.071116",
     "exception": false,
     "start_time": "2021-04-09T12:39:38.994702",
     "status": "completed"
    },
    "tags": []
   },
   "source": [
    "<div style=\"color:white;\n",
    "           display:fill;\n",
    "           border-radius:50px;\n",
    "           background-color:#E8B60B;\n",
    "           font-size:300%;\n",
    "           font-family:Arial;\n",
    "           letter-spacing:0.10px\">\n",
    "<p style=\"padding: 10px;\n",
    "          color:black;\n",
    "          text-align:center;\">Permutation Importance\n",
    "</p>\n",
    "</div>"
   ]
  },
  {
   "cell_type": "markdown",
   "id": "alien-palestine",
   "metadata": {
    "papermill": {
     "duration": 0.07688,
     "end_time": "2021-04-09T12:39:39.227376",
     "exception": false,
     "start_time": "2021-04-09T12:39:39.150496",
     "status": "completed"
    },
    "tags": []
   },
   "source": [
    "# Permutation Importance"
   ]
  },
  {
   "cell_type": "markdown",
   "id": "theoretical-fountain",
   "metadata": {
    "papermill": {
     "duration": 0.078656,
     "end_time": "2021-04-09T12:39:39.383093",
     "exception": false,
     "start_time": "2021-04-09T12:39:39.304437",
     "status": "completed"
    },
    "tags": []
   },
   "source": [
    "* <span style=\"font-family: Arial;font-size:1.1em;color:#3366ff\">Permutation importance is stated to be the decrease in a model Accuracy or any user-defined metrics when a single Independent variable is randomly shuffled\n",
    "* <span style=\"font-family: Arial;font-size:1.1em;color:#3366ff\">This process followed for all the Independent variable and note down the Accuracy of the model when each Independent variable is shuffled and we can use any scoring metrics for this process to know what are feature given importance by the model"
   ]
  },
  {
   "cell_type": "code",
   "execution_count": 36,
   "id": "monetary-contribution",
   "metadata": {
    "execution": {
     "iopub.execute_input": "2021-04-09T12:39:39.546607Z",
     "iopub.status.busy": "2021-04-09T12:39:39.545177Z",
     "iopub.status.idle": "2021-04-09T12:39:45.541102Z",
     "shell.execute_reply": "2021-04-09T12:39:45.540384Z"
    },
    "papermill": {
     "duration": 6.080412,
     "end_time": "2021-04-09T12:39:45.541250",
     "exception": false,
     "start_time": "2021-04-09T12:39:39.460838",
     "status": "completed"
    },
    "tags": []
   },
   "outputs": [
    {
     "data": {
      "text/html": [
       "\n",
       "    <style>\n",
       "    table.eli5-weights tr:hover {\n",
       "        filter: brightness(85%);\n",
       "    }\n",
       "</style>\n",
       "\n",
       "\n",
       "\n",
       "    \n",
       "\n",
       "    \n",
       "\n",
       "    \n",
       "\n",
       "    \n",
       "\n",
       "    \n",
       "\n",
       "    \n",
       "\n",
       "\n",
       "    \n",
       "\n",
       "    \n",
       "\n",
       "    \n",
       "\n",
       "    \n",
       "\n",
       "    \n",
       "\n",
       "    \n",
       "\n",
       "\n",
       "    \n",
       "\n",
       "    \n",
       "\n",
       "    \n",
       "\n",
       "    \n",
       "\n",
       "    \n",
       "        <table class=\"eli5-weights eli5-feature-importances\" style=\"border-collapse: collapse; border: none; margin-top: 0em; table-layout: auto;\">\n",
       "    <thead>\n",
       "    <tr style=\"border: none;\">\n",
       "        <th style=\"padding: 0 1em 0 0.5em; text-align: right; border: none;\">Weight</th>\n",
       "        <th style=\"padding: 0 0.5em 0 0.5em; text-align: left; border: none;\">Feature</th>\n",
       "    </tr>\n",
       "    </thead>\n",
       "    <tbody>\n",
       "    \n",
       "        <tr style=\"background-color: hsl(120, 100.00%, 80.00%); border: none;\">\n",
       "            <td style=\"padding: 0 1em 0 0.5em; text-align: right; border: none;\">\n",
       "                0.2122\n",
       "                \n",
       "                    &plusmn; 0.1299\n",
       "                \n",
       "            </td>\n",
       "            <td style=\"padding: 0 0.5em 0 0.5em; text-align: left; border: none;\">\n",
       "                Contract\n",
       "            </td>\n",
       "        </tr>\n",
       "    \n",
       "        <tr style=\"background-color: hsl(120, 100.00%, 88.38%); border: none;\">\n",
       "            <td style=\"padding: 0 1em 0 0.5em; text-align: right; border: none;\">\n",
       "                0.0977\n",
       "                \n",
       "                    &plusmn; 0.1215\n",
       "                \n",
       "            </td>\n",
       "            <td style=\"padding: 0 0.5em 0 0.5em; text-align: left; border: none;\">\n",
       "                tenure\n",
       "            </td>\n",
       "        </tr>\n",
       "    \n",
       "        <tr style=\"background-color: hsl(120, 100.00%, 96.79%); border: none;\">\n",
       "            <td style=\"padding: 0 1em 0 0.5em; text-align: right; border: none;\">\n",
       "                0.0156\n",
       "                \n",
       "                    &plusmn; 0.0254\n",
       "                \n",
       "            </td>\n",
       "            <td style=\"padding: 0 0.5em 0 0.5em; text-align: left; border: none;\">\n",
       "                TechSupport\n",
       "            </td>\n",
       "        </tr>\n",
       "    \n",
       "        <tr style=\"background-color: hsl(0, 100.00%, 100.00%); border: none;\">\n",
       "            <td style=\"padding: 0 1em 0 0.5em; text-align: right; border: none;\">\n",
       "                0\n",
       "                \n",
       "                    &plusmn; 0.0000\n",
       "                \n",
       "            </td>\n",
       "            <td style=\"padding: 0 0.5em 0 0.5em; text-align: left; border: none;\">\n",
       "                gender\n",
       "            </td>\n",
       "        </tr>\n",
       "    \n",
       "        <tr style=\"background-color: hsl(0, 100.00%, 100.00%); border: none;\">\n",
       "            <td style=\"padding: 0 1em 0 0.5em; text-align: right; border: none;\">\n",
       "                0\n",
       "                \n",
       "                    &plusmn; 0.0000\n",
       "                \n",
       "            </td>\n",
       "            <td style=\"padding: 0 0.5em 0 0.5em; text-align: left; border: none;\">\n",
       "                SeniorCitizen\n",
       "            </td>\n",
       "        </tr>\n",
       "    \n",
       "        <tr style=\"background-color: hsl(0, 100.00%, 100.00%); border: none;\">\n",
       "            <td style=\"padding: 0 1em 0 0.5em; text-align: right; border: none;\">\n",
       "                0\n",
       "                \n",
       "                    &plusmn; 0.0000\n",
       "                \n",
       "            </td>\n",
       "            <td style=\"padding: 0 0.5em 0 0.5em; text-align: left; border: none;\">\n",
       "                PaperlessBilling\n",
       "            </td>\n",
       "        </tr>\n",
       "    \n",
       "        <tr style=\"background-color: hsl(0, 100.00%, 100.00%); border: none;\">\n",
       "            <td style=\"padding: 0 1em 0 0.5em; text-align: right; border: none;\">\n",
       "                0\n",
       "                \n",
       "                    &plusmn; 0.0000\n",
       "                \n",
       "            </td>\n",
       "            <td style=\"padding: 0 0.5em 0 0.5em; text-align: left; border: none;\">\n",
       "                Partner\n",
       "            </td>\n",
       "        </tr>\n",
       "    \n",
       "        <tr style=\"background-color: hsl(0, 100.00%, 100.00%); border: none;\">\n",
       "            <td style=\"padding: 0 1em 0 0.5em; text-align: right; border: none;\">\n",
       "                0\n",
       "                \n",
       "                    &plusmn; 0.0000\n",
       "                \n",
       "            </td>\n",
       "            <td style=\"padding: 0 0.5em 0 0.5em; text-align: left; border: none;\">\n",
       "                StreamingTV\n",
       "            </td>\n",
       "        </tr>\n",
       "    \n",
       "        <tr style=\"background-color: hsl(0, 100.00%, 100.00%); border: none;\">\n",
       "            <td style=\"padding: 0 1em 0 0.5em; text-align: right; border: none;\">\n",
       "                0\n",
       "                \n",
       "                    &plusmn; 0.0000\n",
       "                \n",
       "            </td>\n",
       "            <td style=\"padding: 0 0.5em 0 0.5em; text-align: left; border: none;\">\n",
       "                DeviceProtection\n",
       "            </td>\n",
       "        </tr>\n",
       "    \n",
       "        <tr style=\"background-color: hsl(0, 100.00%, 100.00%); border: none;\">\n",
       "            <td style=\"padding: 0 1em 0 0.5em; text-align: right; border: none;\">\n",
       "                0\n",
       "                \n",
       "                    &plusmn; 0.0000\n",
       "                \n",
       "            </td>\n",
       "            <td style=\"padding: 0 0.5em 0 0.5em; text-align: left; border: none;\">\n",
       "                Dependents\n",
       "            </td>\n",
       "        </tr>\n",
       "    \n",
       "        <tr style=\"background-color: hsl(0, 100.00%, 100.00%); border: none;\">\n",
       "            <td style=\"padding: 0 1em 0 0.5em; text-align: right; border: none;\">\n",
       "                0\n",
       "                \n",
       "                    &plusmn; 0.0000\n",
       "                \n",
       "            </td>\n",
       "            <td style=\"padding: 0 0.5em 0 0.5em; text-align: left; border: none;\">\n",
       "                OnlineSecurity\n",
       "            </td>\n",
       "        </tr>\n",
       "    \n",
       "        <tr style=\"background-color: hsl(0, 100.00%, 100.00%); border: none;\">\n",
       "            <td style=\"padding: 0 1em 0 0.5em; text-align: right; border: none;\">\n",
       "                0\n",
       "                \n",
       "                    &plusmn; 0.0000\n",
       "                \n",
       "            </td>\n",
       "            <td style=\"padding: 0 0.5em 0 0.5em; text-align: left; border: none;\">\n",
       "                InternetService\n",
       "            </td>\n",
       "        </tr>\n",
       "    \n",
       "        <tr style=\"background-color: hsl(0, 100.00%, 100.00%); border: none;\">\n",
       "            <td style=\"padding: 0 1em 0 0.5em; text-align: right; border: none;\">\n",
       "                0\n",
       "                \n",
       "                    &plusmn; 0.0000\n",
       "                \n",
       "            </td>\n",
       "            <td style=\"padding: 0 0.5em 0 0.5em; text-align: left; border: none;\">\n",
       "                MultipleLines\n",
       "            </td>\n",
       "        </tr>\n",
       "    \n",
       "        <tr style=\"background-color: hsl(0, 100.00%, 100.00%); border: none;\">\n",
       "            <td style=\"padding: 0 1em 0 0.5em; text-align: right; border: none;\">\n",
       "                0\n",
       "                \n",
       "                    &plusmn; 0.0000\n",
       "                \n",
       "            </td>\n",
       "            <td style=\"padding: 0 0.5em 0 0.5em; text-align: left; border: none;\">\n",
       "                PhoneService\n",
       "            </td>\n",
       "        </tr>\n",
       "    \n",
       "        <tr style=\"background-color: hsl(0, 100.00%, 97.17%); border: none;\">\n",
       "            <td style=\"padding: 0 1em 0 0.5em; text-align: right; border: none;\">\n",
       "                -0.0130\n",
       "                \n",
       "                    &plusmn; 0.0519\n",
       "                \n",
       "            </td>\n",
       "            <td style=\"padding: 0 0.5em 0 0.5em; text-align: left; border: none;\">\n",
       "                OnlineBackup\n",
       "            </td>\n",
       "        </tr>\n",
       "    \n",
       "        <tr style=\"background-color: hsl(0, 100.00%, 95.40%); border: none;\">\n",
       "            <td style=\"padding: 0 1em 0 0.5em; text-align: right; border: none;\">\n",
       "                -0.0260\n",
       "                \n",
       "                    &plusmn; 0.0636\n",
       "                \n",
       "            </td>\n",
       "            <td style=\"padding: 0 0.5em 0 0.5em; text-align: left; border: none;\">\n",
       "                MonthlyCharges\n",
       "            </td>\n",
       "        </tr>\n",
       "    \n",
       "        <tr style=\"background-color: hsl(0, 100.00%, 94.83%); border: none;\">\n",
       "            <td style=\"padding: 0 1em 0 0.5em; text-align: right; border: none;\">\n",
       "                -0.0307\n",
       "                \n",
       "                    &plusmn; 0.0565\n",
       "                \n",
       "            </td>\n",
       "            <td style=\"padding: 0 0.5em 0 0.5em; text-align: left; border: none;\">\n",
       "                PaymentMethod\n",
       "            </td>\n",
       "        </tr>\n",
       "    \n",
       "        <tr style=\"background-color: hsl(0, 100.00%, 92.53%); border: none;\">\n",
       "            <td style=\"padding: 0 1em 0 0.5em; text-align: right; border: none;\">\n",
       "                -0.0519\n",
       "                \n",
       "                    &plusmn; 0.0519\n",
       "                \n",
       "            </td>\n",
       "            <td style=\"padding: 0 0.5em 0 0.5em; text-align: left; border: none;\">\n",
       "                StreamingMovies\n",
       "            </td>\n",
       "        </tr>\n",
       "    \n",
       "        <tr style=\"background-color: hsl(0, 100.00%, 90.71%); border: none;\">\n",
       "            <td style=\"padding: 0 1em 0 0.5em; text-align: right; border: none;\">\n",
       "                -0.0710\n",
       "                \n",
       "                    &plusmn; 0.0242\n",
       "                \n",
       "            </td>\n",
       "            <td style=\"padding: 0 0.5em 0 0.5em; text-align: left; border: none;\">\n",
       "                TotalCharges\n",
       "            </td>\n",
       "        </tr>\n",
       "    \n",
       "    \n",
       "    </tbody>\n",
       "</table>\n",
       "    \n",
       "\n",
       "    \n",
       "\n",
       "\n",
       "    \n",
       "\n",
       "    \n",
       "\n",
       "    \n",
       "\n",
       "    \n",
       "\n",
       "    \n",
       "\n",
       "    \n",
       "\n",
       "\n",
       "\n"
      ],
      "text/plain": [
       "<IPython.core.display.HTML object>"
      ]
     },
     "execution_count": 36,
     "metadata": {},
     "output_type": "execute_result"
    }
   ],
   "source": [
    "# permutation importance for Random forest model\n",
    "\n",
    "import eli5\n",
    "from eli5.sklearn import PermutationImportance\n",
    "\n",
    "permutation = PermutationImportance(RF_model,random_state=1,scoring='f1').fit(X_test,y_test)# I use scoring as F1 score instead of accuracy\n",
    "eli5.show_weights(permutation, feature_names = df.columns.tolist())"
   ]
  },
  {
   "cell_type": "code",
   "execution_count": 37,
   "id": "defensive-caribbean",
   "metadata": {
    "execution": {
     "iopub.execute_input": "2021-04-09T12:39:45.714850Z",
     "iopub.status.busy": "2021-04-09T12:39:45.704200Z",
     "iopub.status.idle": "2021-04-09T12:39:45.881497Z",
     "shell.execute_reply": "2021-04-09T12:39:45.881989Z"
    },
    "papermill": {
     "duration": 0.260931,
     "end_time": "2021-04-09T12:39:45.882171",
     "exception": false,
     "start_time": "2021-04-09T12:39:45.621240",
     "status": "completed"
    },
    "tags": []
   },
   "outputs": [
    {
     "data": {
      "text/html": [
       "\n",
       "    <style>\n",
       "    table.eli5-weights tr:hover {\n",
       "        filter: brightness(85%);\n",
       "    }\n",
       "</style>\n",
       "\n",
       "\n",
       "\n",
       "    \n",
       "\n",
       "    \n",
       "\n",
       "    \n",
       "\n",
       "    \n",
       "\n",
       "    \n",
       "\n",
       "    \n",
       "\n",
       "\n",
       "    \n",
       "\n",
       "    \n",
       "\n",
       "    \n",
       "\n",
       "    \n",
       "\n",
       "    \n",
       "\n",
       "    \n",
       "\n",
       "\n",
       "    \n",
       "\n",
       "    \n",
       "\n",
       "    \n",
       "\n",
       "    \n",
       "\n",
       "    \n",
       "        <table class=\"eli5-weights eli5-feature-importances\" style=\"border-collapse: collapse; border: none; margin-top: 0em; table-layout: auto;\">\n",
       "    <thead>\n",
       "    <tr style=\"border: none;\">\n",
       "        <th style=\"padding: 0 1em 0 0.5em; text-align: right; border: none;\">Weight</th>\n",
       "        <th style=\"padding: 0 0.5em 0 0.5em; text-align: left; border: none;\">Feature</th>\n",
       "    </tr>\n",
       "    </thead>\n",
       "    <tbody>\n",
       "    \n",
       "        <tr style=\"background-color: hsl(120, 100.00%, 80.00%); border: none;\">\n",
       "            <td style=\"padding: 0 1em 0 0.5em; text-align: right; border: none;\">\n",
       "                0.2006\n",
       "                \n",
       "                    &plusmn; 0.0641\n",
       "                \n",
       "            </td>\n",
       "            <td style=\"padding: 0 0.5em 0 0.5em; text-align: left; border: none;\">\n",
       "                Contract\n",
       "            </td>\n",
       "        </tr>\n",
       "    \n",
       "        <tr style=\"background-color: hsl(120, 100.00%, 86.19%); border: none;\">\n",
       "            <td style=\"padding: 0 1em 0 0.5em; text-align: right; border: none;\">\n",
       "                0.1182\n",
       "                \n",
       "                    &plusmn; 0.1341\n",
       "                \n",
       "            </td>\n",
       "            <td style=\"padding: 0 0.5em 0 0.5em; text-align: left; border: none;\">\n",
       "                tenure\n",
       "            </td>\n",
       "        </tr>\n",
       "    \n",
       "        <tr style=\"background-color: hsl(120, 100.00%, 93.75%); border: none;\">\n",
       "            <td style=\"padding: 0 1em 0 0.5em; text-align: right; border: none;\">\n",
       "                0.0381\n",
       "                \n",
       "                    &plusmn; 0.0910\n",
       "                \n",
       "            </td>\n",
       "            <td style=\"padding: 0 0.5em 0 0.5em; text-align: left; border: none;\">\n",
       "                InternetService\n",
       "            </td>\n",
       "        </tr>\n",
       "    \n",
       "        <tr style=\"background-color: hsl(120, 100.00%, 95.47%); border: none;\">\n",
       "            <td style=\"padding: 0 1em 0 0.5em; text-align: right; border: none;\">\n",
       "                0.0241\n",
       "                \n",
       "                    &plusmn; 0.0478\n",
       "                \n",
       "            </td>\n",
       "            <td style=\"padding: 0 0.5em 0 0.5em; text-align: left; border: none;\">\n",
       "                OnlineSecurity\n",
       "            </td>\n",
       "        </tr>\n",
       "    \n",
       "        <tr style=\"background-color: hsl(120, 100.00%, 95.79%); border: none;\">\n",
       "            <td style=\"padding: 0 1em 0 0.5em; text-align: right; border: none;\">\n",
       "                0.0217\n",
       "                \n",
       "                    &plusmn; 0.0399\n",
       "                \n",
       "            </td>\n",
       "            <td style=\"padding: 0 0.5em 0 0.5em; text-align: left; border: none;\">\n",
       "                PaymentMethod\n",
       "            </td>\n",
       "        </tr>\n",
       "    \n",
       "        <tr style=\"background-color: hsl(120, 100.00%, 96.50%); border: none;\">\n",
       "            <td style=\"padding: 0 1em 0 0.5em; text-align: right; border: none;\">\n",
       "                0.0166\n",
       "                \n",
       "                    &plusmn; 0.0271\n",
       "                \n",
       "            </td>\n",
       "            <td style=\"padding: 0 0.5em 0 0.5em; text-align: left; border: none;\">\n",
       "                StreamingTV\n",
       "            </td>\n",
       "        </tr>\n",
       "    \n",
       "        <tr style=\"background-color: hsl(120, 100.00%, 97.37%); border: none;\">\n",
       "            <td style=\"padding: 0 1em 0 0.5em; text-align: right; border: none;\">\n",
       "                0.0111\n",
       "                \n",
       "                    &plusmn; 0.0271\n",
       "                \n",
       "            </td>\n",
       "            <td style=\"padding: 0 0.5em 0 0.5em; text-align: left; border: none;\">\n",
       "                TechSupport\n",
       "            </td>\n",
       "        </tr>\n",
       "    \n",
       "        <tr style=\"background-color: hsl(120, 100.00%, 98.38%); border: none;\">\n",
       "            <td style=\"padding: 0 1em 0 0.5em; text-align: right; border: none;\">\n",
       "                0.0055\n",
       "                \n",
       "                    &plusmn; 0.0221\n",
       "                \n",
       "            </td>\n",
       "            <td style=\"padding: 0 0.5em 0 0.5em; text-align: left; border: none;\">\n",
       "                OnlineBackup\n",
       "            </td>\n",
       "        </tr>\n",
       "    \n",
       "        <tr style=\"background-color: hsl(120, 100.00%, 98.38%); border: none;\">\n",
       "            <td style=\"padding: 0 1em 0 0.5em; text-align: right; border: none;\">\n",
       "                0.0055\n",
       "                \n",
       "                    &plusmn; 0.0221\n",
       "                \n",
       "            </td>\n",
       "            <td style=\"padding: 0 0.5em 0 0.5em; text-align: left; border: none;\">\n",
       "                MonthlyCharges\n",
       "            </td>\n",
       "        </tr>\n",
       "    \n",
       "        <tr style=\"background-color: hsl(0, 100.00%, 100.00%); border: none;\">\n",
       "            <td style=\"padding: 0 1em 0 0.5em; text-align: right; border: none;\">\n",
       "                0\n",
       "                \n",
       "                    &plusmn; 0.0000\n",
       "                \n",
       "            </td>\n",
       "            <td style=\"padding: 0 0.5em 0 0.5em; text-align: left; border: none;\">\n",
       "                PhoneService\n",
       "            </td>\n",
       "        </tr>\n",
       "    \n",
       "        <tr style=\"background-color: hsl(0, 100.00%, 100.00%); border: none;\">\n",
       "            <td style=\"padding: 0 1em 0 0.5em; text-align: right; border: none;\">\n",
       "                0\n",
       "                \n",
       "                    &plusmn; 0.0000\n",
       "                \n",
       "            </td>\n",
       "            <td style=\"padding: 0 0.5em 0 0.5em; text-align: left; border: none;\">\n",
       "                SeniorCitizen\n",
       "            </td>\n",
       "        </tr>\n",
       "    \n",
       "        <tr style=\"background-color: hsl(0, 100.00%, 100.00%); border: none;\">\n",
       "            <td style=\"padding: 0 1em 0 0.5em; text-align: right; border: none;\">\n",
       "                0\n",
       "                \n",
       "                    &plusmn; 0.0000\n",
       "                \n",
       "            </td>\n",
       "            <td style=\"padding: 0 0.5em 0 0.5em; text-align: left; border: none;\">\n",
       "                Partner\n",
       "            </td>\n",
       "        </tr>\n",
       "    \n",
       "        <tr style=\"background-color: hsl(0, 100.00%, 100.00%); border: none;\">\n",
       "            <td style=\"padding: 0 1em 0 0.5em; text-align: right; border: none;\">\n",
       "                0\n",
       "                \n",
       "                    &plusmn; 0.0000\n",
       "                \n",
       "            </td>\n",
       "            <td style=\"padding: 0 0.5em 0 0.5em; text-align: left; border: none;\">\n",
       "                Dependents\n",
       "            </td>\n",
       "        </tr>\n",
       "    \n",
       "        <tr style=\"background-color: hsl(0, 100.00%, 100.00%); border: none;\">\n",
       "            <td style=\"padding: 0 1em 0 0.5em; text-align: right; border: none;\">\n",
       "                0\n",
       "                \n",
       "                    &plusmn; 0.0000\n",
       "                \n",
       "            </td>\n",
       "            <td style=\"padding: 0 0.5em 0 0.5em; text-align: left; border: none;\">\n",
       "                TotalCharges\n",
       "            </td>\n",
       "        </tr>\n",
       "    \n",
       "        <tr style=\"background-color: hsl(0, 100.00%, 100.00%); border: none;\">\n",
       "            <td style=\"padding: 0 1em 0 0.5em; text-align: right; border: none;\">\n",
       "                0\n",
       "                \n",
       "                    &plusmn; 0.0000\n",
       "                \n",
       "            </td>\n",
       "            <td style=\"padding: 0 0.5em 0 0.5em; text-align: left; border: none;\">\n",
       "                MultipleLines\n",
       "            </td>\n",
       "        </tr>\n",
       "    \n",
       "        <tr style=\"background-color: hsl(0, 100.00%, 100.00%); border: none;\">\n",
       "            <td style=\"padding: 0 1em 0 0.5em; text-align: right; border: none;\">\n",
       "                0\n",
       "                \n",
       "                    &plusmn; 0.0000\n",
       "                \n",
       "            </td>\n",
       "            <td style=\"padding: 0 0.5em 0 0.5em; text-align: left; border: none;\">\n",
       "                DeviceProtection\n",
       "            </td>\n",
       "        </tr>\n",
       "    \n",
       "        <tr style=\"background-color: hsl(0, 100.00%, 100.00%); border: none;\">\n",
       "            <td style=\"padding: 0 1em 0 0.5em; text-align: right; border: none;\">\n",
       "                0\n",
       "                \n",
       "                    &plusmn; 0.0000\n",
       "                \n",
       "            </td>\n",
       "            <td style=\"padding: 0 0.5em 0 0.5em; text-align: left; border: none;\">\n",
       "                StreamingMovies\n",
       "            </td>\n",
       "        </tr>\n",
       "    \n",
       "        <tr style=\"background-color: hsl(0, 100.00%, 100.00%); border: none;\">\n",
       "            <td style=\"padding: 0 1em 0 0.5em; text-align: right; border: none;\">\n",
       "                0\n",
       "                \n",
       "                    &plusmn; 0.0000\n",
       "                \n",
       "            </td>\n",
       "            <td style=\"padding: 0 0.5em 0 0.5em; text-align: left; border: none;\">\n",
       "                PaperlessBilling\n",
       "            </td>\n",
       "        </tr>\n",
       "    \n",
       "        <tr style=\"background-color: hsl(0, 100.00%, 100.00%); border: none;\">\n",
       "            <td style=\"padding: 0 1em 0 0.5em; text-align: right; border: none;\">\n",
       "                0\n",
       "                \n",
       "                    &plusmn; 0.0000\n",
       "                \n",
       "            </td>\n",
       "            <td style=\"padding: 0 0.5em 0 0.5em; text-align: left; border: none;\">\n",
       "                gender\n",
       "            </td>\n",
       "        </tr>\n",
       "    \n",
       "    \n",
       "    </tbody>\n",
       "</table>\n",
       "    \n",
       "\n",
       "    \n",
       "\n",
       "\n",
       "    \n",
       "\n",
       "    \n",
       "\n",
       "    \n",
       "\n",
       "    \n",
       "\n",
       "    \n",
       "\n",
       "    \n",
       "\n",
       "\n",
       "\n"
      ],
      "text/plain": [
       "<IPython.core.display.HTML object>"
      ]
     },
     "execution_count": 37,
     "metadata": {},
     "output_type": "execute_result"
    }
   ],
   "source": [
    "# permutation importance for Xgboost model\n",
    "\n",
    "import eli5\n",
    "from eli5.sklearn import PermutationImportance\n",
    "\n",
    "permutation = PermutationImportance(Xgboost_model,random_state=1,scoring='f1').fit(X_test,y_test)# I use scoring as F1 score instead of accuracy\n",
    "eli5.show_weights(permutation, feature_names = df.columns.tolist())"
   ]
  },
  {
   "cell_type": "markdown",
   "id": "great-green",
   "metadata": {
    "papermill": {
     "duration": 0.079839,
     "end_time": "2021-04-09T12:39:46.042014",
     "exception": false,
     "start_time": "2021-04-09T12:39:45.962175",
     "status": "completed"
    },
    "tags": []
   },
   "source": [
    "<div style=\"color:white;\n",
    "           display:fill;\n",
    "           border-radius:50px;\n",
    "           background-color:#E8B60B;\n",
    "           font-size:300%;\n",
    "           font-family:Arial;\n",
    "           letter-spacing:0.10px\">\n",
    "<p style=\"padding: 10px;\n",
    "          color:black;\n",
    "          text-align:center;\">Model Comparison\n",
    "</p>\n",
    "</div>"
   ]
  },
  {
   "cell_type": "markdown",
   "id": "twenty-roots",
   "metadata": {
    "papermill": {
     "duration": 0.079623,
     "end_time": "2021-04-09T12:39:46.203402",
     "exception": false,
     "start_time": "2021-04-09T12:39:46.123779",
     "status": "completed"
    },
    "tags": []
   },
   "source": [
    "# Model comparison"
   ]
  },
  {
   "cell_type": "markdown",
   "id": "corrected-offense",
   "metadata": {
    "papermill": {
     "duration": 0.079722,
     "end_time": "2021-04-09T12:39:46.362788",
     "exception": false,
     "start_time": "2021-04-09T12:39:46.283066",
     "status": "completed"
    },
    "tags": []
   },
   "source": [
    "* <span style=\"font-family: Arial;font-size:1.2em;color:#3366ff\">objective is to select model with good metrics, we can use metrics of F1 score and recall with good precision\n",
    "* <span style=\"font-family: Arial;font-size:1.2em;color:#3366ff\">f1 score is harmonic mean of precision and recall"
   ]
  },
  {
   "cell_type": "code",
   "execution_count": 38,
   "id": "powerful-split",
   "metadata": {
    "_kg_hide-input": true,
    "execution": {
     "iopub.execute_input": "2021-04-09T12:39:46.524764Z",
     "iopub.status.busy": "2021-04-09T12:39:46.524111Z",
     "iopub.status.idle": "2021-04-09T12:39:47.923217Z",
     "shell.execute_reply": "2021-04-09T12:39:47.923739Z"
    },
    "jupyter": {
     "source_hidden": true
    },
    "papermill": {
     "duration": 1.481306,
     "end_time": "2021-04-09T12:39:47.923932",
     "exception": false,
     "start_time": "2021-04-09T12:39:46.442626",
     "status": "completed"
    },
    "tags": []
   },
   "outputs": [],
   "source": [
    "models_list = [Xgboost_model,RF_model,DT_model]\n",
    "recall =[]\n",
    "precision =[]\n",
    "test_acc = []\n",
    "train_acc = []\n",
    "f1score = []\n",
    "\n",
    "for model in models_list:\n",
    "    predict_test = model.predict(X_test)\n",
    "    predict_train = model.predict(X_train)\n",
    "    f1s = metrics.f1_score(y_test, predict_test)\n",
    "    pre = metrics.precision_score(y_test, predict_test)\n",
    "    rec = metrics.recall_score(y_test, predict_test)\n",
    "    acc_test = model.score(X_test,y_test)\n",
    "    acc_train = model.score(X_train,y_train)\n",
    "    \n",
    "    recall.append(rec)\n",
    "    precision.append(pre)\n",
    "    test_acc.append(acc_test)\n",
    "    train_acc.append(acc_train)\n",
    "    f1score.append(f1s)\n",
    "    \n",
    "model_compare = pd.DataFrame({\n",
    "'Models':['Xgboost','Random_forest','Decision_Tree'],\n",
    "'recall':recall,\n",
    "'Precision':precision,\n",
    "'f1score':f1score,\n",
    "'Accuracy on Test':test_acc,\n",
    "'Accuracy on Train':train_acc\n",
    "})\n"
   ]
  },
  {
   "cell_type": "code",
   "execution_count": 39,
   "id": "raising-requirement",
   "metadata": {
    "execution": {
     "iopub.execute_input": "2021-04-09T12:39:48.090630Z",
     "iopub.status.busy": "2021-04-09T12:39:48.089981Z",
     "iopub.status.idle": "2021-04-09T12:39:48.136081Z",
     "shell.execute_reply": "2021-04-09T12:39:48.135552Z"
    },
    "papermill": {
     "duration": 0.129328,
     "end_time": "2021-04-09T12:39:48.136223",
     "exception": false,
     "start_time": "2021-04-09T12:39:48.006895",
     "status": "completed"
    },
    "tags": []
   },
   "outputs": [
    {
     "data": {
      "text/html": [
       "<style  type=\"text/css\" >\n",
       "#T_cc11e_row0_col1,#T_cc11e_row0_col2,#T_cc11e_row0_col3,#T_cc11e_row0_col4,#T_cc11e_row0_col5{\n",
       "            background-color:  #08306b;\n",
       "            color:  #f1f1f1;\n",
       "        }#T_cc11e_row1_col1,#T_cc11e_row1_col2,#T_cc11e_row1_col3,#T_cc11e_row1_col4,#T_cc11e_row2_col1,#T_cc11e_row2_col2,#T_cc11e_row2_col3,#T_cc11e_row2_col4,#T_cc11e_row2_col5{\n",
       "            background-color:  #f7fbff;\n",
       "            color:  #000000;\n",
       "        }#T_cc11e_row1_col5{\n",
       "            background-color:  #084387;\n",
       "            color:  #f1f1f1;\n",
       "        }</style><table id=\"T_cc11e_\" ><thead>    <tr>        <th class=\"blank level0\" ></th>        <th class=\"col_heading level0 col0\" >Models</th>        <th class=\"col_heading level0 col1\" >recall</th>        <th class=\"col_heading level0 col2\" >Precision</th>        <th class=\"col_heading level0 col3\" >f1score</th>        <th class=\"col_heading level0 col4\" >Accuracy on Test</th>        <th class=\"col_heading level0 col5\" >Accuracy on Train</th>    </tr></thead><tbody>\n",
       "                <tr>\n",
       "                        <th id=\"T_cc11e_level0_row0\" class=\"row_heading level0 row0\" >0</th>\n",
       "                        <td id=\"T_cc11e_row0_col0\" class=\"data row0 col0\" >Xgboost</td>\n",
       "                        <td id=\"T_cc11e_row0_col1\" class=\"data row0 col1\" >0.636364</td>\n",
       "                        <td id=\"T_cc11e_row0_col2\" class=\"data row0 col2\" >0.636364</td>\n",
       "                        <td id=\"T_cc11e_row0_col3\" class=\"data row0 col3\" >0.636364</td>\n",
       "                        <td id=\"T_cc11e_row0_col4\" class=\"data row0 col4\" >0.733333</td>\n",
       "                        <td id=\"T_cc11e_row0_col5\" class=\"data row0 col5\" >0.833790</td>\n",
       "            </tr>\n",
       "            <tr>\n",
       "                        <th id=\"T_cc11e_level0_row1\" class=\"row_heading level0 row1\" >1</th>\n",
       "                        <td id=\"T_cc11e_row1_col0\" class=\"data row1 col0\" >Random_forest</td>\n",
       "                        <td id=\"T_cc11e_row1_col1\" class=\"data row1 col1\" >0.545455</td>\n",
       "                        <td id=\"T_cc11e_row1_col2\" class=\"data row1 col2\" >0.600000</td>\n",
       "                        <td id=\"T_cc11e_row1_col3\" class=\"data row1 col3\" >0.571429</td>\n",
       "                        <td id=\"T_cc11e_row1_col4\" class=\"data row1 col4\" >0.700000</td>\n",
       "                        <td id=\"T_cc11e_row1_col5\" class=\"data row1 col5\" >0.831279</td>\n",
       "            </tr>\n",
       "            <tr>\n",
       "                        <th id=\"T_cc11e_level0_row2\" class=\"row_heading level0 row2\" >2</th>\n",
       "                        <td id=\"T_cc11e_row2_col0\" class=\"data row2 col0\" >Decision_Tree</td>\n",
       "                        <td id=\"T_cc11e_row2_col1\" class=\"data row2 col1\" >0.545455</td>\n",
       "                        <td id=\"T_cc11e_row2_col2\" class=\"data row2 col2\" >0.600000</td>\n",
       "                        <td id=\"T_cc11e_row2_col3\" class=\"data row2 col3\" >0.571429</td>\n",
       "                        <td id=\"T_cc11e_row2_col4\" class=\"data row2 col4\" >0.700000</td>\n",
       "                        <td id=\"T_cc11e_row2_col5\" class=\"data row2 col5\" >0.799772</td>\n",
       "            </tr>\n",
       "    </tbody></table>"
      ],
      "text/plain": [
       "<pandas.io.formats.style.Styler at 0x7fe54e8ee150>"
      ]
     },
     "execution_count": 39,
     "metadata": {},
     "output_type": "execute_result"
    }
   ],
   "source": [
    "model_compare.style.background_gradient(cmap='Blues')"
   ]
  },
  {
   "cell_type": "markdown",
   "id": "descending-grave",
   "metadata": {
    "papermill": {
     "duration": 0.078317,
     "end_time": "2021-04-09T12:39:48.293425",
     "exception": false,
     "start_time": "2021-04-09T12:39:48.215108",
     "status": "completed"
    },
    "tags": []
   },
   "source": [
    "*  <span style=\"font-family: Arial;font-size:1.2em;color:#3366ff\">we can use Xgboost model for the prediction and it has balance of precision and recall"
   ]
  },
  {
   "cell_type": "markdown",
   "id": "considerable-strip",
   "metadata": {
    "papermill": {
     "duration": 0.081151,
     "end_time": "2021-04-09T12:39:48.454693",
     "exception": false,
     "start_time": "2021-04-09T12:39:48.373542",
     "status": "completed"
    },
    "tags": []
   },
   "source": [
    "<div style=\"color:white;\n",
    "           display:fill;\n",
    "           border-radius:50px;\n",
    "           background-color:#E8B60B;\n",
    "           font-size:300%;\n",
    "           font-family:Arial;\n",
    "           letter-spacing:0.10px\">\n",
    "<p style=\"padding: 10px;\n",
    "          color:black;\n",
    "          text-align:center;\">Reference\n",
    "</p>\n",
    "</div>"
   ]
  },
  {
   "cell_type": "markdown",
   "id": "portuguese-suite",
   "metadata": {
    "papermill": {
     "duration": 0.08141,
     "end_time": "2021-04-09T12:39:48.617248",
     "exception": false,
     "start_time": "2021-04-09T12:39:48.535838",
     "status": "completed"
    },
    "tags": []
   },
   "source": [
    "# Reference"
   ]
  },
  {
   "cell_type": "markdown",
   "id": "touched-cutting",
   "metadata": {
    "papermill": {
     "duration": 0.07887,
     "end_time": "2021-04-09T12:39:48.776981",
     "exception": false,
     "start_time": "2021-04-09T12:39:48.698111",
     "status": "completed"
    },
    "tags": []
   },
   "source": [
    "* https://xgboost.readthedocs.io/en/latest/tutorials/model.html\n",
    "* https://www.kaggle.com/dansbecker/permutation-importance referred Permutation Importance from Dan Becker's Notebook\n",
    "* Tableau Tutorial https://www.youtube.com/watch?v=6mBtTNggkUk"
   ]
  },
  {
   "cell_type": "markdown",
   "id": "conservative-uncertainty",
   "metadata": {
    "papermill": {
     "duration": 0.084829,
     "end_time": "2021-04-09T12:39:48.944860",
     "exception": false,
     "start_time": "2021-04-09T12:39:48.860031",
     "status": "completed"
    },
    "tags": []
   },
   "source": [
    "# <span style=\"font-family: Arial;font-size:1.2em;color:#3366ff\">Thank you!!"
   ]
  },
  {
   "cell_type": "markdown",
   "id": "liquid-conservation",
   "metadata": {
    "papermill": {
     "duration": 0.082527,
     "end_time": "2021-04-09T12:39:49.110976",
     "exception": false,
     "start_time": "2021-04-09T12:39:49.028449",
     "status": "completed"
    },
    "tags": []
   },
   "source": [
    "## <span style=\"font-family: Arial;font-size:1.2em;color:#3366ff\">Feel free to post your suggestion"
   ]
  }
 ],
 "metadata": {
  "kernelspec": {
   "display_name": "Python 3",
   "language": "python",
   "name": "python3"
  },
  "language_info": {
   "codemirror_mode": {
    "name": "ipython",
    "version": 3
   },
   "file_extension": ".py",
   "mimetype": "text/x-python",
   "name": "python",
   "nbconvert_exporter": "python",
   "pygments_lexer": "ipython3",
   "version": "3.7.9"
  },
  "papermill": {
   "default_parameters": {},
   "duration": 49.119287,
   "end_time": "2021-04-09T12:39:50.503329",
   "environment_variables": {},
   "exception": null,
   "input_path": "__notebook__.ipynb",
   "output_path": "__notebook__.ipynb",
   "parameters": {},
   "start_time": "2021-04-09T12:39:01.384042",
   "version": "2.3.2"
  }
 },
 "nbformat": 4,
 "nbformat_minor": 5
}
